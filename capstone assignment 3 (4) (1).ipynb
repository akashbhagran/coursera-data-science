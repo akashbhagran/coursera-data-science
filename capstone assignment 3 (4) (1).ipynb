{
 "cells": [
  {
   "cell_type": "markdown",
   "metadata": {
    "collapsed": true
   },
   "source": [
    "# Capstone Assignment Three"
   ]
  },
  {
   "cell_type": "markdown",
   "metadata": {},
   "source": [
    "\n",
    "\n",
    "\n",
    "\n",
    "\n",
    "\n",
    "\n",
    "\n",
    "\n",
    "\n"
   ]
  },
  {
   "cell_type": "markdown",
   "metadata": {},
   "source": [
    "## Which city is best to open an Italian Restaurant?\n",
    "\n",
    "### Introduction\n",
    "This audience could be a board who own a restaurant chain and are interested in continuing the successful restaurant in another capital city. I have suggested analysing London, Paris, New York, Toronto, San Francisco, Berlin, Moscow , Athens and Madrid. These are famous metropolitan cities that have high population (with the exception of San Francisco); it could also be interesting to investigate the mediterranean areas like Athens and Madrid. The investigation is initially regarding the city with the most demand for an Italian restaurant. This is done by looking at the number of Italian restaurants per 100,000 people of the entire population, and then looking at the number of restaurants against the proportion of an Italian population in a city. It could be interesting to see if the number has anything to do with the size of the proportion. This notebook will then try to answer the question \"What makes a restaurant succesful?\" or even if this question is simple to answer using just foursquare. Analysing social behaviour is not always straightforwrd.\n",
    "\n",
    "### Data\n",
    "The data is retrieved from foursquare using a search query \"Italian Restaurant\". Json packets return with information about the venue such as location, the type of cuisine, number of likes and other information. Specific details about the venue using the \"Stats\" feature is unfortunatley not accessible even though it would have been very useful. Another downside is that only 50 venues are returned using foursquare which can thwart big data analysis. Data is of venues within 20km radius from the city centre and the first feature that has been extracted from the json scripts is the cuisine type. As expected (perhaps human error), not all of the results returned are related to Italian cuisine; the data is filtered for references containing only the words \"Pizza\" or \"Italian\". Other data such as the total population and Italian population were collected personally.\n",
    "\n",
    "The json packets are called again for multiple linear regression. The json packets contain information such as the cuisine type (Category), the locations by latitude, longitude, address and postcode, but also the price tier. All this was compared with the amount of likes a restaurant has and the ratings - also retrieved from foursqaure. Missing data is simply dropped.\n",
    "\n",
    "### Methodology\n",
    "The data returns the cuisine type so a simple approach is to count the number of times \"Italian\" comes up in each city, however it must be divided by the total population number and reperesented as per capita. See list of methodologies for each sub-investigation:\n",
    "\n",
    "1) A bar chart named \"Italian Restaurants per 100,000 of Total Population\" was produced to show the number of Italian restaurants per 100000 people of the total population in the city. The assumption is that the higher the number of restaurants in a city, the greater the popularity and demand.\n",
    "2) A scatter plot named \"No of Restaurants vs Proportion of Italian Population\" was made to show the number of italian restaurants in each city against the proportion of Italian people in the city. This was to see if there is a correlation between the popularity of Italian restaurants and the population.\n",
    "\n",
    "Further analysis was undertaken on New York City which has alot of demographical data, a high population and is one of the world's most prominent cities. It is a great candidate to study how different attributes of restaurants could affect their popularity.\n",
    "\n",
    "3) Scatter plots named \"Likes vs Location\" and \"Ratings vs Location\" were produced. These plots compare the location in terms of longitude and latitude with the associated likes/rating which are represented by heat. The colours represent the number of likes or ratings in a location. Darker colours are low values and lighter/redder colours are higher in value. \n",
    "4) Ratings and Likes vs Price Tier Scatter plot to see any correlation\n",
    "5) Sum of Rates and Likes vs Price Tier shows the total likes accumulated at all restaurants with indexes 1 to 4. Shows if price tier has any impact on choice.\n",
    "6) Ratings and Likes vs Postal Code to see if restaurants in certain areas contribute towards preference. The scatter plot shows all the likes and ratings of restaurants based in certain postcodes, then the line graphs show the sum of all likes and ratings associated with each postal code. \n",
    "7 Sum of Likes/Ratings vs Category - a way to see if there is any significant data to show preference of cuisine types.\n",
    "8 Although the postal code comparison possibly makes this redundant, there was a comparison between the sum of ratings and likes for each Cross Street. It's easier to use postal code for the model as there are many CrossStreets but fewer postal codes. \n",
    "\n",
    "A multiple linear regression model was then built based on the independent variables - Postal Code, Category and PriceTier. The model was then evaluated and then statistical analysis was run using stats from scipy and statsmodel api. The analysis returned P values to show the most singifcant factors.\n",
    "\n",
    "### Results\n",
    " The city with most Italian venues per 100000 citizens was San Francisco, followed by New York City and finally Toronto. London is almost tied with Toronto. It was interesting to see why this is so a results table of the Italian population in each city was made; the table called \"Population\" appends the proportion of Italians in each city, the total population and the number of Italian restaurants. This is also expressed as a scatter plot. Considering Athens as an outlier, it turns out that there is some glimpse of correlation between the proportion of Italians in a city and the amount of Italian restaurants. San Francisco and New York City (unsurprisingly) look like the best candidates to expand a restaurant into but it is worth noting that the San Francisco population is much smaller. New York City also the highest population of Italian speakers and people of Italian ancestry outside of Italy. \n",
    "\n",
    "1) Concerning the scatter plot \"Likes vs Location\" and \"Ratings vs Location\" - showing each restaurant in a location (by long and lat) and representing the likes and ratings by heat; it does not appear that any particular location is a hotspot for business. However, most of these restaurants are conglomerated around the Soho area in Manhatten. This could be an area of further investigation.\n",
    "2) Concerning the Scatter plot \"Ratings and Likes vs Price Tier\" and \"Sum of Rates and Likes vs Price Tier\" shows very small correlation. More data is needed on the ratings and likes surrounding the higher price tier restaurants, but you can still see a slight upwards trend. The tiers were grouped and the likes/ratings were summed. There are more Tier 2 restaurants that any other tiers; most restaurants fall in the medium priced category. Lower tier restaurants have lesser likes, tier 2 restaurants have a broad range of likes and Tier 4 has one restaurant with high ratings. If more data is collected, it would not be surprising to find that high tier restaurants accumulate popularity over time.  After all quality should increase with price.\n",
    "3) Concerning \"Ratings and Likes vs Postal Code\" ratings and likes peak at postcodes 10002, 10013 and 10036. These areas are East Village, Soho and the very heart of Manhattan. This may not express any causation (the heat plots were not suggestive about popularity and location) and it could just be a matter of fact. \n",
    "4) Concerning \"Sum of Likes/Ratings vs Category\", the most popular cuisines are as follows: 1) Italian Restaurant, 2) American Restaurant 3) Dim Sum Restaurant 4) Bakery 5) Diner. This is good news as the most popular (one that received the most likes) cuisine type is Italian. However, the highest rated restaurants are chinese. In this case it is better to use the likes as a measure of popularity, the number of people liking online could imply a higher proportion visiting the venue.\n",
    "\n",
    "A mutliple linear regression model has been fitted, however it has too poor evaluation scores to be considered as anything useful. This is not that surprising as modelling social behaviour is sometimes an intricate task. \n",
    "\n",
    "The good news is that using statsmodel package, the P values could be found. The most significant factor, having a p value of 0.002 is the Price Tier.\n",
    "\n",
    "\n",
    "\n",
    "\n",
    "### Discussion\n",
    "It is important to know why there is a popularity in each city so looking at Italian population is a good place to start. It's expected that the higher the Italian population, the more likely you are to find Italian cuisine and there was a small correlation suggesting that when comparing the percentage of Italians in each city. The data is not very sophisticated; here are suggestions to improve the data:\n",
    "\n",
    " + A better measure of success is simply the sales between a period - which equates to growth \n",
    " + The total number of visitors is a measure of success\n",
    " + To study if location has any impact at all, way more than 50 venues are essential to study social behaviour.\n",
    " + A higher number of higher PriceTier restaurants in the results is very desirable to study the most signifcant impact to the model.\n",
    " + Access to the stats feature of foursquare is desirable.\n",
    " \n",
    "Some areas for further research include:\n",
    " + Why are there peaks at Post codes 10002, 10013 and 10036? Are these prominent areas? Are these locations \"nice\"? Are they dense with    tourism?\n",
    " + How good are the Italian restaurants in New York? It is noteworthy that there is competition and this restaurant chain has to bring something unique, competitive and as authentic as possible.\n",
    " + Only ~2% of the San Francisco population have claimed Italian ancestry but the number of Italian Restaurants per citizen is high - should this result be taken seriously or with caution as the population of San Francisco is relatively smaller.\n",
    "\n",
    "\n",
    "\n",
    "### Conclusion\n",
    "\n",
    "New York, but more specifically Manhattan, should be the best candidate for expanding the chain into but further research must be invested in, especially regarding location and other demographics by using much more vast data. Though San Francisco got the highest score, the population is relatively low and the data may not be represented in the same way if hypthotically San Francisco became as large as New York. The results are not strongly suggestive but do show New York as having the most Italian restaurants most likely due to Italian migration in the past. The most significant factor relative to other factors was price tier (popularity is correlated with expense). This could be interpretted as such: New Yorkers will respond to good quality cuisine. The business should bring something unique to New York as there is bound to be competition; the business should also investigate a suitable area - midtown Manhattan, Soho and East Village have restaurants which have the highest number of likes. \n",
    "\n",
    "\n",
    "### References: \n",
    "Below are the links to the pages that provide the Italian population in each city. After lengthy searches, not much could be found on Moscow.\n",
    "\n",
    "###### [1] https://en.wikipedia.org/wiki/Languages_of_Greece language 894697\n",
    "###### [2] https://en.wikipedia.org/wiki/Demographics_of_Greece \n",
    "###### [3] https://en.wikipedia.org/wiki/Demographics_of_San_Francisco ancestry 20696\n",
    "###### [4] https://en.wikipedia.org/wiki/Demographics_of_New_York_City#Italian ancestry 692,739\n",
    "###### [5] https://en.wikipedia.org/wiki/Italian_Canadians_in_the_Greater_Toronto_Area ancestry 182,495\n",
    "###### [6] https://en.wikipedia.org/wiki/Demography_of_London language 53400\n",
    "###### [7] https://en.wikipedia.org/wiki/Demographics_of_France unclear if citizen population or ancestry 56692\n",
    "###### [8] https://en.wikipedia.org/wiki/Berlin_population_statistics ~ nationality 20000\n",
    "###### [9] https://en.wikipedia.org/wiki/Madrid#Demographics - 23894"
   ]
  },
  {
   "cell_type": "code",
   "execution_count": 2,
   "metadata": {},
   "outputs": [],
   "source": [
    "import numpy as np\n",
    "import pandas as pd\n",
    "import requests\n",
    "from bs4 import BeautifulSoup\n",
    "from tabulate import tabulate\n",
    "import pandas as pd\n",
    "from sklearn.preprocessing import MinMaxScaler\n",
    "from sklearn.cluster import KMeans\n",
    "import matplotlib.pyplot as plt"
   ]
  },
  {
   "cell_type": "code",
   "execution_count": 3,
   "metadata": {},
   "outputs": [
    {
     "name": "stdout",
     "output_type": "stream",
     "text": [
      "Solving environment: done\n",
      "\n",
      "## Package Plan ##\n",
      "\n",
      "  environment location: /opt/conda/envs/Python36\n",
      "\n",
      "  added / updated specs: \n",
      "    - geopy\n",
      "\n",
      "\n",
      "The following packages will be downloaded:\n",
      "\n",
      "    package                    |            build\n",
      "    ---------------------------|-----------------\n",
      "    openssl-1.1.1d             |       h516909a_0         2.1 MB  conda-forge\n",
      "    certifi-2019.9.11          |           py36_0         147 KB  conda-forge\n",
      "    ca-certificates-2019.9.11  |       hecc5488_0         144 KB  conda-forge\n",
      "    geopy-1.20.0               |             py_0          57 KB  conda-forge\n",
      "    geographiclib-1.50         |             py_0          34 KB  conda-forge\n",
      "    ------------------------------------------------------------\n",
      "                                           Total:         2.5 MB\n",
      "\n",
      "The following NEW packages will be INSTALLED:\n",
      "\n",
      "    geographiclib:   1.50-py_0         conda-forge\n",
      "    geopy:           1.20.0-py_0       conda-forge\n",
      "\n",
      "The following packages will be UPDATED:\n",
      "\n",
      "    certifi:         2019.9.11-py36_0              --> 2019.9.11-py36_0     conda-forge\n",
      "\n",
      "The following packages will be DOWNGRADED:\n",
      "\n",
      "    ca-certificates: 2019.10.16-0                  --> 2019.9.11-hecc5488_0 conda-forge\n",
      "    openssl:         1.1.1d-h7b6447c_3             --> 1.1.1d-h516909a_0    conda-forge\n",
      "\n",
      "\n",
      "Downloading and Extracting Packages\n",
      "openssl-1.1.1d       | 2.1 MB    | ##################################### | 100% \n",
      "certifi-2019.9.11    | 147 KB    | ##################################### | 100% \n",
      "ca-certificates-2019 | 144 KB    | ##################################### | 100% \n",
      "geopy-1.20.0         | 57 KB     | ##################################### | 100% \n",
      "geographiclib-1.50   | 34 KB     | ##################################### | 100% \n",
      "Preparing transaction: done\n",
      "Verifying transaction: done\n",
      "Executing transaction: done\n",
      "Solving environment: done\n",
      "\n",
      "## Package Plan ##\n",
      "\n",
      "  environment location: /opt/conda/envs/Python36\n",
      "\n",
      "  added / updated specs: \n",
      "    - folium=0.5.0\n",
      "\n",
      "\n",
      "The following packages will be downloaded:\n",
      "\n",
      "    package                    |            build\n",
      "    ---------------------------|-----------------\n",
      "    folium-0.5.0               |             py_0          45 KB  conda-forge\n",
      "    branca-0.3.1               |             py_0          25 KB  conda-forge\n",
      "    altair-3.2.0               |           py36_0         770 KB  conda-forge\n",
      "    vincent-0.4.4              |             py_1          28 KB  conda-forge\n",
      "    ------------------------------------------------------------\n",
      "                                           Total:         868 KB\n",
      "\n",
      "The following NEW packages will be INSTALLED:\n",
      "\n",
      "    altair:  3.2.0-py36_0 conda-forge\n",
      "    branca:  0.3.1-py_0   conda-forge\n",
      "    folium:  0.5.0-py_0   conda-forge\n",
      "    vincent: 0.4.4-py_1   conda-forge\n",
      "\n",
      "\n",
      "Downloading and Extracting Packages\n",
      "folium-0.5.0         | 45 KB     | ##################################### | 100% \n",
      "branca-0.3.1         | 25 KB     | ##################################### | 100% \n",
      "altair-3.2.0         | 770 KB    | ##################################### | 100% \n",
      "vincent-0.4.4        | 28 KB     | ##################################### | 100% \n",
      "Preparing transaction: done\n",
      "Verifying transaction: done\n",
      "Executing transaction: done\n",
      "Libraries imported.\n"
     ]
    }
   ],
   "source": [
    "import json # library to handle JSON files\n",
    "#-------------------------------------------------\n",
    "#!conda install -c conda-forge geopy --yes # uncomment this line if you haven't completed the Foursquare API lab\n",
    "from geopy.geocoders import Nominatim # convert an address into latitude and longitude values\n",
    "#-------------------------------------------------\n",
    "import requests # library to handle requests\n",
    "from pandas.io.json import json_normalize # tranform JSON file into a pandas dataframe\n",
    "# Matplotlib and associated plotting modules\n",
    "import matplotlib.cm as cm\n",
    "import matplotlib.colors as colors\n",
    "#-------------------------------------------------\n",
    "# import k-means from clustering stage\n",
    "from sklearn.cluster import KMeans\n",
    "#-------------------------------------------------\n",
    "#\n",
    "#!conda install -c conda-forge folium=0.5.0 --yes # uncomment this line if you haven't completed the Foursquare API lab\n",
    "import folium # map rendering library\n",
    "#-------------------------------------------------\n",
    "print('Libraries imported.')\n"
   ]
  },
  {
   "cell_type": "code",
   "execution_count": 5,
   "metadata": {},
   "outputs": [
    {
     "name": "stdout",
     "output_type": "stream",
     "text": [
      "Your credentails:\n",
      "CLIENT_ID: I2CICVVZ4TRAQCRSL4UTDKMH3PFIMXTXLRYRFBFR0G2LK0CF\n",
      "CLIENT_SECRET:HTCT303R1B0OID3GPDHBCXU0REV2N34HYE2P2XLWJFHQRE3E\n"
     ]
    }
   ],
   "source": [
    "CLIENT_ID = 'I2CICVVZ4TRAQCRSL4UTDKMH3PFIMXTXLRYRFBFR0G2LK0CF' # your Foursquare ID\n",
    "CLIENT_SECRET = 'HTCT303R1B0OID3GPDHBCXU0REV2N34HYE2P2XLWJFHQRE3E' # your Foursquare Secret\n",
    "VERSION = '20180605' # Foursquare API version\n",
    "\n",
    "print('Your credentails:')\n",
    "print('CLIENT_ID: ' + CLIENT_ID)\n",
    "print('CLIENT_SECRET:' + CLIENT_SECRET)"
   ]
  },
  {
   "cell_type": "markdown",
   "metadata": {},
   "source": [
    "#### The function Settings has to be looped over so I have made it into a function."
   ]
  },
  {
   "cell_type": "code",
   "execution_count": 6,
   "metadata": {},
   "outputs": [],
   "source": [
    "def Settings(i,radius,limit,search_query):\n",
    "    address = '{}'.format(cities[i])\n",
    "    geolocator = Nominatim(user_agent=\"ny_explorer\")\n",
    "    location = geolocator.geocode(address)\n",
    "    latitude = location.latitude\n",
    "    longitude = location.longitude\n",
    "    print('The geograpical coordinate of {} are {}, {}.'.format(address,latitude, longitude))\n",
    "    urlsearch = 'https://api.foursquare.com/v2/venues/search?client_id={}&client_secret={}&ll={},{}&v={}&query={}&radius={}&limit={}'.format(CLIENT_ID,CLIENT_SECRET,latitude,longitude,VERSION,search_query,radius,limit)\n",
    "    resultssearch=requests.get(urlsearch).json()\n",
    "    return resultssearch\n",
    "\n",
    "def GetVenueInfo(venue_id):\n",
    "    urlvenue = 'https://api.foursquare.com/v2/venues/{}?client_id={}&client_secret={}&v={}'.format(venue_id, CLIENT_ID, CLIENT_SECRET, VERSION)\n",
    "    resultsvenue=requests.get(urlvenue).json()\n",
    "    return resultsvenue"
   ]
  },
  {
   "cell_type": "markdown",
   "metadata": {},
   "source": [
    "#### Below parameters of Settings are declared. The search query, radius and limit for the parameters. The list of cities is also declared."
   ]
  },
  {
   "cell_type": "code",
   "execution_count": 7,
   "metadata": {},
   "outputs": [
    {
     "name": "stdout",
     "output_type": "stream",
     "text": [
      "The geograpical coordinate of London are 51.5073219, -0.1276474.\n",
      "The geograpical coordinate of Paris are 48.8566101, 2.3514992.\n",
      "The geograpical coordinate of New York City are 40.7127281, -74.0060152.\n",
      "The geograpical coordinate of Toronto are 43.653963, -79.387207.\n",
      "The geograpical coordinate of San Francisco are 37.7792808, -122.4192363.\n",
      "The geograpical coordinate of Berlin are 52.5170365, 13.3888599.\n",
      "The geograpical coordinate of Moscow are 55.7504461, 37.6174943.\n",
      "The geograpical coordinate of Athens, Greece are 37.9841493, 23.7279843.\n",
      "The geograpical coordinate of Madrid are 40.4167047, -3.7035825.\n"
     ]
    }
   ],
   "source": [
    "cities=('London','Paris','New York City','Toronto','San Francisco','Berlin','Moscow','Athens, Greece','Madrid')\n",
    "rest = []\n",
    "df=[]\n",
    "locations=[]\n",
    "radius=20000\n",
    "limit=1000\n",
    "search_query='Italian Restaurant'\n",
    "\n",
    "for i in range(len(cities)):\n",
    "    resultssearch=Settings(i,radius,limit,search_query)\n",
    "    rest=[]\n",
    "    for j in range(len(resultssearch['response']['venues'])):\n",
    "        if resultssearch['response']['venues'][j]['categories']!=[]:\n",
    "            rest.append(resultssearch['response']['venues'][j]['categories'])\n",
    "            \n",
    "        #locations.append(resultssearch[])\n",
    "    df.append(rest)\n",
    "    \n",
    "GlobalRestaurants=pd.DataFrame(df).T\n",
    "GlobalRestaurants=GlobalRestaurants.set_axis(cities,axis=1,inplace=False)\n",
    "\n"
   ]
  },
  {
   "cell_type": "markdown",
   "metadata": {},
   "source": [
    "##### The code block below populates GlobalRestaurantsCuisine which is the list of all types of cuisine associated with the search \"italian restaurant\". This dataframe is assessed by eye, I was interested in the results associated with the search and filter out anything unrelated. I have also counted the terms with \"Pizza\" in the data as Italian cuisine.  "
   ]
  },
  {
   "cell_type": "code",
   "execution_count": 8,
   "metadata": {},
   "outputs": [
    {
     "data": {
      "text/html": [
       "<div>\n",
       "<style scoped>\n",
       "    .dataframe tbody tr th:only-of-type {\n",
       "        vertical-align: middle;\n",
       "    }\n",
       "\n",
       "    .dataframe tbody tr th {\n",
       "        vertical-align: top;\n",
       "    }\n",
       "\n",
       "    .dataframe thead th {\n",
       "        text-align: right;\n",
       "    }\n",
       "</style>\n",
       "<table border=\"1\" class=\"dataframe\">\n",
       "  <thead>\n",
       "    <tr style=\"text-align: right;\">\n",
       "      <th></th>\n",
       "      <th>London</th>\n",
       "      <th>Paris</th>\n",
       "      <th>New York City</th>\n",
       "      <th>Toronto</th>\n",
       "      <th>San Francisco</th>\n",
       "      <th>Berlin</th>\n",
       "      <th>Moscow</th>\n",
       "      <th>Athens, Greece</th>\n",
       "      <th>Madrid</th>\n",
       "    </tr>\n",
       "  </thead>\n",
       "  <tbody>\n",
       "    <tr>\n",
       "      <th>0</th>\n",
       "      <td>Italian Restaurant</td>\n",
       "      <td>French Restaurant</td>\n",
       "      <td>Italian Restaurant</td>\n",
       "      <td>Italian Restaurant</td>\n",
       "      <td>Pizza Place</td>\n",
       "      <td>Japanese Restaurant</td>\n",
       "      <td>Italian Restaurant</td>\n",
       "      <td>Italian Restaurant</td>\n",
       "      <td>Performing Arts Venue</td>\n",
       "    </tr>\n",
       "    <tr>\n",
       "      <th>1</th>\n",
       "      <td>Italian Restaurant</td>\n",
       "      <td>Italian Restaurant</td>\n",
       "      <td>Italian Restaurant</td>\n",
       "      <td>Restaurant</td>\n",
       "      <td>Italian Restaurant</td>\n",
       "      <td>Breakfast Spot</td>\n",
       "      <td>Embassy / Consulate</td>\n",
       "      <td>Italian Restaurant</td>\n",
       "      <td>Restaurant</td>\n",
       "    </tr>\n",
       "    <tr>\n",
       "      <th>2</th>\n",
       "      <td>Italian Restaurant</td>\n",
       "      <td>Café</td>\n",
       "      <td>Food</td>\n",
       "      <td>Italian Restaurant</td>\n",
       "      <td>Italian Restaurant</td>\n",
       "      <td>German Restaurant</td>\n",
       "      <td>Italian Restaurant</td>\n",
       "      <td>Italian Restaurant</td>\n",
       "      <td>Café</td>\n",
       "    </tr>\n",
       "    <tr>\n",
       "      <th>3</th>\n",
       "      <td>Italian Restaurant</td>\n",
       "      <td>French Restaurant</td>\n",
       "      <td>Italian Restaurant</td>\n",
       "      <td>American Restaurant</td>\n",
       "      <td>Food</td>\n",
       "      <td>Restaurant</td>\n",
       "      <td>Chinese Restaurant</td>\n",
       "      <td>Hotel Bar</td>\n",
       "      <td>Mediterranean Restaurant</td>\n",
       "    </tr>\n",
       "    <tr>\n",
       "      <th>4</th>\n",
       "      <td>Italian Restaurant</td>\n",
       "      <td>French Restaurant</td>\n",
       "      <td>Italian Restaurant</td>\n",
       "      <td>Italian Restaurant</td>\n",
       "      <td>Pizza Place</td>\n",
       "      <td>Vegetarian / Vegan Restaurant</td>\n",
       "      <td>Nightclub</td>\n",
       "      <td>Restaurant</td>\n",
       "      <td>Mediterranean Restaurant</td>\n",
       "    </tr>\n",
       "    <tr>\n",
       "      <th>5</th>\n",
       "      <td>Italian Restaurant</td>\n",
       "      <td>Monument / Landmark</td>\n",
       "      <td>Italian Restaurant</td>\n",
       "      <td>American Restaurant</td>\n",
       "      <td>Food</td>\n",
       "      <td>Embassy / Consulate</td>\n",
       "      <td>Winery</td>\n",
       "      <td>Irish Pub</td>\n",
       "      <td>Restaurant</td>\n",
       "    </tr>\n",
       "    <tr>\n",
       "      <th>6</th>\n",
       "      <td>Italian Restaurant</td>\n",
       "      <td>Gourmet Shop</td>\n",
       "      <td>Italian Restaurant</td>\n",
       "      <td>Italian Restaurant</td>\n",
       "      <td>Italian Restaurant</td>\n",
       "      <td>French Restaurant</td>\n",
       "      <td>Eastern European Restaurant</td>\n",
       "      <td>Greek Restaurant</td>\n",
       "      <td>Cocktail Bar</td>\n",
       "    </tr>\n",
       "    <tr>\n",
       "      <th>7</th>\n",
       "      <td>Italian Restaurant</td>\n",
       "      <td>Italian Restaurant</td>\n",
       "      <td>Italian Restaurant</td>\n",
       "      <td>Dim Sum Restaurant</td>\n",
       "      <td>Vietnamese Restaurant</td>\n",
       "      <td>Restaurant</td>\n",
       "      <td>Asian Restaurant</td>\n",
       "      <td>Roof Deck</td>\n",
       "      <td>Mediterranean Restaurant</td>\n",
       "    </tr>\n",
       "    <tr>\n",
       "      <th>8</th>\n",
       "      <td>Italian Restaurant</td>\n",
       "      <td>Persian Restaurant</td>\n",
       "      <td>Italian Restaurant</td>\n",
       "      <td>Wine Bar</td>\n",
       "      <td>Italian Restaurant</td>\n",
       "      <td>Restaurant</td>\n",
       "      <td>Russian Restaurant</td>\n",
       "      <td>Chinese Restaurant</td>\n",
       "      <td>Spanish Restaurant</td>\n",
       "    </tr>\n",
       "    <tr>\n",
       "      <th>9</th>\n",
       "      <td>Italian Restaurant</td>\n",
       "      <td>French Restaurant</td>\n",
       "      <td>Italian Restaurant</td>\n",
       "      <td>Chinese Restaurant</td>\n",
       "      <td>Hawaiian Restaurant</td>\n",
       "      <td>Restaurant</td>\n",
       "      <td>Pizza Place</td>\n",
       "      <td>Social Club</td>\n",
       "      <td>Persian Restaurant</td>\n",
       "    </tr>\n",
       "    <tr>\n",
       "      <th>10</th>\n",
       "      <td>Asian Restaurant</td>\n",
       "      <td>French Restaurant</td>\n",
       "      <td>Pizza Place</td>\n",
       "      <td>American Restaurant</td>\n",
       "      <td>Tuscan Restaurant</td>\n",
       "      <td>Turkish Restaurant</td>\n",
       "      <td>Seafood Restaurant</td>\n",
       "      <td>Café</td>\n",
       "      <td>Spanish Restaurant</td>\n",
       "    </tr>\n",
       "    <tr>\n",
       "      <th>11</th>\n",
       "      <td>Italian Restaurant</td>\n",
       "      <td>Vietnamese Restaurant</td>\n",
       "      <td>Italian Restaurant</td>\n",
       "      <td>Italian Restaurant</td>\n",
       "      <td>Italian Restaurant</td>\n",
       "      <td>Breakfast Spot</td>\n",
       "      <td>Eastern European Restaurant</td>\n",
       "      <td>Greek Restaurant</td>\n",
       "      <td>Paella Restaurant</td>\n",
       "    </tr>\n",
       "    <tr>\n",
       "      <th>12</th>\n",
       "      <td>Italian Restaurant</td>\n",
       "      <td>Japanese Restaurant</td>\n",
       "      <td>Pizza Place</td>\n",
       "      <td>Italian Restaurant</td>\n",
       "      <td>Italian Restaurant</td>\n",
       "      <td>German Restaurant</td>\n",
       "      <td>Restaurant</td>\n",
       "      <td>Library</td>\n",
       "      <td>Restaurant</td>\n",
       "    </tr>\n",
       "    <tr>\n",
       "      <th>13</th>\n",
       "      <td>Italian Restaurant</td>\n",
       "      <td>Restaurant</td>\n",
       "      <td>Italian Restaurant</td>\n",
       "      <td>Embassy / Consulate</td>\n",
       "      <td>Chinese Restaurant</td>\n",
       "      <td>Trattoria/Osteria</td>\n",
       "      <td>Japanese Restaurant</td>\n",
       "      <td>Greek Restaurant</td>\n",
       "      <td>Spanish Restaurant</td>\n",
       "    </tr>\n",
       "    <tr>\n",
       "      <th>14</th>\n",
       "      <td>Italian Restaurant</td>\n",
       "      <td>Bistro</td>\n",
       "      <td>Pizza Place</td>\n",
       "      <td>Restaurant</td>\n",
       "      <td>Latin American Restaurant</td>\n",
       "      <td>Vietnamese Restaurant</td>\n",
       "      <td>Modern European Restaurant</td>\n",
       "      <td>Mediterranean Restaurant</td>\n",
       "      <td>Pizza Place</td>\n",
       "    </tr>\n",
       "    <tr>\n",
       "      <th>15</th>\n",
       "      <td>Italian Restaurant</td>\n",
       "      <td>Turkish Restaurant</td>\n",
       "      <td>Italian Restaurant</td>\n",
       "      <td>Chinese Restaurant</td>\n",
       "      <td>Middle Eastern Restaurant</td>\n",
       "      <td>Breakfast Spot</td>\n",
       "      <td>Russian Restaurant</td>\n",
       "      <td>Falafel Restaurant</td>\n",
       "      <td>Indian Restaurant</td>\n",
       "    </tr>\n",
       "    <tr>\n",
       "      <th>16</th>\n",
       "      <td>Italian Restaurant</td>\n",
       "      <td>French Restaurant</td>\n",
       "      <td>Italian Restaurant</td>\n",
       "      <td>Restaurant</td>\n",
       "      <td>Italian Restaurant</td>\n",
       "      <td>French Restaurant</td>\n",
       "      <td>Restaurant</td>\n",
       "      <td>Café</td>\n",
       "      <td>Indian Restaurant</td>\n",
       "    </tr>\n",
       "    <tr>\n",
       "      <th>17</th>\n",
       "      <td>Italian Restaurant</td>\n",
       "      <td>French Restaurant</td>\n",
       "      <td>Italian Restaurant</td>\n",
       "      <td>Chinese Restaurant</td>\n",
       "      <td>Chinese Restaurant</td>\n",
       "      <td>Restaurant</td>\n",
       "      <td>Italian Restaurant</td>\n",
       "      <td>Lounge</td>\n",
       "      <td>Spanish Restaurant</td>\n",
       "    </tr>\n",
       "    <tr>\n",
       "      <th>18</th>\n",
       "      <td>Italian Restaurant</td>\n",
       "      <td>French Restaurant</td>\n",
       "      <td>Pizza Place</td>\n",
       "      <td>Szechuan Restaurant</td>\n",
       "      <td>Irish Pub</td>\n",
       "      <td>Restaurant</td>\n",
       "      <td>Restaurant</td>\n",
       "      <td>Theme Restaurant</td>\n",
       "      <td>Italian Restaurant</td>\n",
       "    </tr>\n",
       "    <tr>\n",
       "      <th>19</th>\n",
       "      <td>Italian Restaurant</td>\n",
       "      <td>French Restaurant</td>\n",
       "      <td>Italian Restaurant</td>\n",
       "      <td>Italian Restaurant</td>\n",
       "      <td>Bar</td>\n",
       "      <td>Breakfast Spot</td>\n",
       "      <td>Restaurant</td>\n",
       "      <td>Greek Restaurant</td>\n",
       "      <td>Boutique</td>\n",
       "    </tr>\n",
       "    <tr>\n",
       "      <th>20</th>\n",
       "      <td>Italian Restaurant</td>\n",
       "      <td>Szechuan Restaurant</td>\n",
       "      <td>Pizza Place</td>\n",
       "      <td>Dim Sum Restaurant</td>\n",
       "      <td>Dim Sum Restaurant</td>\n",
       "      <td>Turkish Restaurant</td>\n",
       "      <td>Italian Restaurant</td>\n",
       "      <td>Greek Restaurant</td>\n",
       "      <td>Spanish Restaurant</td>\n",
       "    </tr>\n",
       "    <tr>\n",
       "      <th>21</th>\n",
       "      <td>Italian Restaurant</td>\n",
       "      <td>French Restaurant</td>\n",
       "      <td>Italian Restaurant</td>\n",
       "      <td>Noodle House</td>\n",
       "      <td>Restaurant</td>\n",
       "      <td>Restaurant</td>\n",
       "      <td>Russian Restaurant</td>\n",
       "      <td>Greek Restaurant</td>\n",
       "      <td>Café</td>\n",
       "    </tr>\n",
       "    <tr>\n",
       "      <th>22</th>\n",
       "      <td>Italian Restaurant</td>\n",
       "      <td>French Restaurant</td>\n",
       "      <td>Pizza Place</td>\n",
       "      <td>Korean Restaurant</td>\n",
       "      <td>Szechuan Restaurant</td>\n",
       "      <td>Restaurant</td>\n",
       "      <td>Breakfast Spot</td>\n",
       "      <td>Pakistani Restaurant</td>\n",
       "      <td>Restaurant</td>\n",
       "    </tr>\n",
       "    <tr>\n",
       "      <th>23</th>\n",
       "      <td>Greek Restaurant</td>\n",
       "      <td>Fast Food Restaurant</td>\n",
       "      <td>Pizza Place</td>\n",
       "      <td>Ice Cream Shop</td>\n",
       "      <td>Indian Restaurant</td>\n",
       "      <td>Hotel Bar</td>\n",
       "      <td>Turkish Restaurant</td>\n",
       "      <td>Restaurant</td>\n",
       "      <td>Breakfast Spot</td>\n",
       "    </tr>\n",
       "    <tr>\n",
       "      <th>24</th>\n",
       "      <td>Lebanese Restaurant</td>\n",
       "      <td>Bistro</td>\n",
       "      <td>Italian Restaurant</td>\n",
       "      <td>Sushi Restaurant</td>\n",
       "      <td>American Restaurant</td>\n",
       "      <td>Trattoria/Osteria</td>\n",
       "      <td>Fair</td>\n",
       "      <td>Greek Restaurant</td>\n",
       "      <td>Indian Restaurant</td>\n",
       "    </tr>\n",
       "    <tr>\n",
       "      <th>25</th>\n",
       "      <td>Bookstore</td>\n",
       "      <td>Restaurant</td>\n",
       "      <td>Pizza Place</td>\n",
       "      <td>Chinese Restaurant</td>\n",
       "      <td>Coffee Shop</td>\n",
       "      <td>French Restaurant</td>\n",
       "      <td>Eastern European Restaurant</td>\n",
       "      <td>Italian Restaurant</td>\n",
       "      <td>Indian Restaurant</td>\n",
       "    </tr>\n",
       "    <tr>\n",
       "      <th>26</th>\n",
       "      <td>Italian Restaurant</td>\n",
       "      <td>Szechuan Restaurant</td>\n",
       "      <td>Italian Restaurant</td>\n",
       "      <td>Vietnamese Restaurant</td>\n",
       "      <td>Bakery</td>\n",
       "      <td>Hotel Bar</td>\n",
       "      <td>Italian Restaurant</td>\n",
       "      <td>Greek Restaurant</td>\n",
       "      <td>Chinese Restaurant</td>\n",
       "    </tr>\n",
       "    <tr>\n",
       "      <th>27</th>\n",
       "      <td>English Restaurant</td>\n",
       "      <td>Middle Eastern Restaurant</td>\n",
       "      <td>Italian Restaurant</td>\n",
       "      <td>Italian Restaurant</td>\n",
       "      <td>Seafood Restaurant</td>\n",
       "      <td>Chinese Restaurant</td>\n",
       "      <td>College Auditorium</td>\n",
       "      <td>Italian Restaurant</td>\n",
       "      <td>Pizza Place</td>\n",
       "    </tr>\n",
       "    <tr>\n",
       "      <th>28</th>\n",
       "      <td>English Restaurant</td>\n",
       "      <td>Tibetan Restaurant</td>\n",
       "      <td>Italian Restaurant</td>\n",
       "      <td>Italian Restaurant</td>\n",
       "      <td>New American Restaurant</td>\n",
       "      <td>Italian Restaurant</td>\n",
       "      <td>Boutique</td>\n",
       "      <td>Mediterranean Restaurant</td>\n",
       "      <td>Pizza Place</td>\n",
       "    </tr>\n",
       "    <tr>\n",
       "      <th>29</th>\n",
       "      <td>Furniture / Home Store</td>\n",
       "      <td>French Restaurant</td>\n",
       "      <td>Italian Restaurant</td>\n",
       "      <td>Chinese Restaurant</td>\n",
       "      <td>Indian Restaurant</td>\n",
       "      <td>German Restaurant</td>\n",
       "      <td>Restaurant</td>\n",
       "      <td>Halal Restaurant</td>\n",
       "      <td>Asian Restaurant</td>\n",
       "    </tr>\n",
       "    <tr>\n",
       "      <th>30</th>\n",
       "      <td>Malay Restaurant</td>\n",
       "      <td>Indian Restaurant</td>\n",
       "      <td>Pizza Place</td>\n",
       "      <td>Indian Restaurant</td>\n",
       "      <td>American Restaurant</td>\n",
       "      <td>German Restaurant</td>\n",
       "      <td>Massage Studio</td>\n",
       "      <td>Greek Restaurant</td>\n",
       "      <td>Spanish Restaurant</td>\n",
       "    </tr>\n",
       "    <tr>\n",
       "      <th>31</th>\n",
       "      <td>Chinese Restaurant</td>\n",
       "      <td>Restaurant</td>\n",
       "      <td>Italian Restaurant</td>\n",
       "      <td>Breakfast Spot</td>\n",
       "      <td>Music Venue</td>\n",
       "      <td>Beer Bar</td>\n",
       "      <td>Building</td>\n",
       "      <td>Indian Restaurant</td>\n",
       "      <td>Restaurant</td>\n",
       "    </tr>\n",
       "    <tr>\n",
       "      <th>32</th>\n",
       "      <td>Furniture / Home Store</td>\n",
       "      <td>Italian Restaurant</td>\n",
       "      <td>Italian Restaurant</td>\n",
       "      <td>Restaurant</td>\n",
       "      <td>Chinese Restaurant</td>\n",
       "      <td>Turkish Restaurant</td>\n",
       "      <td>Dessert Shop</td>\n",
       "      <td>Greek Restaurant</td>\n",
       "      <td>Music Venue</td>\n",
       "    </tr>\n",
       "    <tr>\n",
       "      <th>33</th>\n",
       "      <td>Beer Bar</td>\n",
       "      <td>Bar</td>\n",
       "      <td>Italian Restaurant</td>\n",
       "      <td>Caribbean Restaurant</td>\n",
       "      <td>Burger Joint</td>\n",
       "      <td>Turkish Restaurant</td>\n",
       "      <td>Italian Restaurant</td>\n",
       "      <td>Gastropub</td>\n",
       "      <td>Restaurant</td>\n",
       "    </tr>\n",
       "    <tr>\n",
       "      <th>34</th>\n",
       "      <td>Italian Restaurant</td>\n",
       "      <td>Japanese Restaurant</td>\n",
       "      <td>Pizza Place</td>\n",
       "      <td>Diner</td>\n",
       "      <td>Lounge</td>\n",
       "      <td>Breakfast Spot</td>\n",
       "      <td>Russian Restaurant</td>\n",
       "      <td>Lounge</td>\n",
       "      <td>Indian Restaurant</td>\n",
       "    </tr>\n",
       "    <tr>\n",
       "      <th>35</th>\n",
       "      <td>Chinese Restaurant</td>\n",
       "      <td>Korean Restaurant</td>\n",
       "      <td>Pizza Place</td>\n",
       "      <td>Dim Sum Restaurant</td>\n",
       "      <td>Furniture / Home Store</td>\n",
       "      <td>Italian Restaurant</td>\n",
       "      <td>Restaurant</td>\n",
       "      <td>Chinese Restaurant</td>\n",
       "      <td>Indian Restaurant</td>\n",
       "    </tr>\n",
       "    <tr>\n",
       "      <th>36</th>\n",
       "      <td>Italian Restaurant</td>\n",
       "      <td>College Cafeteria</td>\n",
       "      <td>Restaurant</td>\n",
       "      <td>Vietnamese Restaurant</td>\n",
       "      <td>Chinese Restaurant</td>\n",
       "      <td>Korean Restaurant</td>\n",
       "      <td>American Restaurant</td>\n",
       "      <td>Indian Restaurant</td>\n",
       "      <td>Chinese Restaurant</td>\n",
       "    </tr>\n",
       "    <tr>\n",
       "      <th>37</th>\n",
       "      <td>Italian Restaurant</td>\n",
       "      <td>French Restaurant</td>\n",
       "      <td>Italian Restaurant</td>\n",
       "      <td>Food Truck</td>\n",
       "      <td>Vietnamese Restaurant</td>\n",
       "      <td>German Restaurant</td>\n",
       "      <td>Seafood Restaurant</td>\n",
       "      <td>Restaurant</td>\n",
       "      <td>Restaurant</td>\n",
       "    </tr>\n",
       "    <tr>\n",
       "      <th>38</th>\n",
       "      <td>Art Museum</td>\n",
       "      <td>College Cafeteria</td>\n",
       "      <td>Italian Restaurant</td>\n",
       "      <td>Bar</td>\n",
       "      <td>Indian Restaurant</td>\n",
       "      <td>Italian Restaurant</td>\n",
       "      <td>Sandwich Place</td>\n",
       "      <td>Greek Restaurant</td>\n",
       "      <td>Coffee Shop</td>\n",
       "    </tr>\n",
       "    <tr>\n",
       "      <th>39</th>\n",
       "      <td>Italian Restaurant</td>\n",
       "      <td>French Restaurant</td>\n",
       "      <td>Italian Restaurant</td>\n",
       "      <td>Chinese Restaurant</td>\n",
       "      <td>Social Club</td>\n",
       "      <td>Restaurant</td>\n",
       "      <td>French Restaurant</td>\n",
       "      <td>Gastropub</td>\n",
       "      <td>Spanish Restaurant</td>\n",
       "    </tr>\n",
       "    <tr>\n",
       "      <th>40</th>\n",
       "      <td>Italian Restaurant</td>\n",
       "      <td>French Restaurant</td>\n",
       "      <td>Pizza Place</td>\n",
       "      <td>Dim Sum Restaurant</td>\n",
       "      <td>Steakhouse</td>\n",
       "      <td>Thai Restaurant</td>\n",
       "      <td>Italian Restaurant</td>\n",
       "      <td>Greek Restaurant</td>\n",
       "      <td>Italian Restaurant</td>\n",
       "    </tr>\n",
       "    <tr>\n",
       "      <th>41</th>\n",
       "      <td>English Restaurant</td>\n",
       "      <td>Restaurant</td>\n",
       "      <td>Italian Restaurant</td>\n",
       "      <td>Restaurant</td>\n",
       "      <td>Vietnamese Restaurant</td>\n",
       "      <td>Vietnamese Restaurant</td>\n",
       "      <td>Diner</td>\n",
       "      <td>Food Court</td>\n",
       "      <td>Indian Restaurant</td>\n",
       "    </tr>\n",
       "    <tr>\n",
       "      <th>42</th>\n",
       "      <td>Pizza Place</td>\n",
       "      <td>Restaurant</td>\n",
       "      <td>Food</td>\n",
       "      <td>Chinese Restaurant</td>\n",
       "      <td>American Restaurant</td>\n",
       "      <td>Cuban Restaurant</td>\n",
       "      <td>Italian Restaurant</td>\n",
       "      <td>Thai Restaurant</td>\n",
       "      <td>Café</td>\n",
       "    </tr>\n",
       "    <tr>\n",
       "      <th>43</th>\n",
       "      <td>Government Building</td>\n",
       "      <td>Halal Restaurant</td>\n",
       "      <td>Italian Restaurant</td>\n",
       "      <td>Indian Restaurant</td>\n",
       "      <td>Thai Restaurant</td>\n",
       "      <td>Restaurant</td>\n",
       "      <td>Hotel Bar</td>\n",
       "      <td>Indian Restaurant</td>\n",
       "      <td>Chinese Restaurant</td>\n",
       "    </tr>\n",
       "    <tr>\n",
       "      <th>44</th>\n",
       "      <td>Steakhouse</td>\n",
       "      <td>French Restaurant</td>\n",
       "      <td>Italian Restaurant</td>\n",
       "      <td>Chinese Restaurant</td>\n",
       "      <td>Seafood Restaurant</td>\n",
       "      <td>Breakfast Spot</td>\n",
       "      <td>Middle Eastern Restaurant</td>\n",
       "      <td>Afghan Restaurant</td>\n",
       "      <td>Spanish Restaurant</td>\n",
       "    </tr>\n",
       "    <tr>\n",
       "      <th>45</th>\n",
       "      <td>Chinese Restaurant</td>\n",
       "      <td>Turkish Restaurant</td>\n",
       "      <td>Italian Restaurant</td>\n",
       "      <td>Event Space</td>\n",
       "      <td>Thai Restaurant</td>\n",
       "      <td>Restaurant</td>\n",
       "      <td>None</td>\n",
       "      <td>Greek Restaurant</td>\n",
       "      <td>Restaurant</td>\n",
       "    </tr>\n",
       "    <tr>\n",
       "      <th>46</th>\n",
       "      <td>Food Stand</td>\n",
       "      <td>Turkish Restaurant</td>\n",
       "      <td>Pizza Place</td>\n",
       "      <td>Italian Restaurant</td>\n",
       "      <td>Chinese Restaurant</td>\n",
       "      <td>German Restaurant</td>\n",
       "      <td>None</td>\n",
       "      <td>Bar</td>\n",
       "      <td>Middle Eastern Restaurant</td>\n",
       "    </tr>\n",
       "    <tr>\n",
       "      <th>47</th>\n",
       "      <td>Italian Restaurant</td>\n",
       "      <td>French Restaurant</td>\n",
       "      <td>Italian Restaurant</td>\n",
       "      <td>Italian Restaurant</td>\n",
       "      <td>American Restaurant</td>\n",
       "      <td>Italian Restaurant</td>\n",
       "      <td>None</td>\n",
       "      <td>Modern European Restaurant</td>\n",
       "      <td>Restaurant</td>\n",
       "    </tr>\n",
       "    <tr>\n",
       "      <th>48</th>\n",
       "      <td>None</td>\n",
       "      <td>Sandwich Place</td>\n",
       "      <td>Italian Restaurant</td>\n",
       "      <td>Restaurant</td>\n",
       "      <td>Sushi Restaurant</td>\n",
       "      <td>Restaurant</td>\n",
       "      <td>None</td>\n",
       "      <td>Wine Bar</td>\n",
       "      <td>Spanish Restaurant</td>\n",
       "    </tr>\n",
       "    <tr>\n",
       "      <th>49</th>\n",
       "      <td>None</td>\n",
       "      <td>French Restaurant</td>\n",
       "      <td>None</td>\n",
       "      <td>None</td>\n",
       "      <td>Seafood Restaurant</td>\n",
       "      <td>Vietnamese Restaurant</td>\n",
       "      <td>None</td>\n",
       "      <td>Greek Restaurant</td>\n",
       "      <td>Spanish Restaurant</td>\n",
       "    </tr>\n",
       "  </tbody>\n",
       "</table>\n",
       "</div>"
      ],
      "text/plain": [
       "                    London                      Paris       New York City  \\\n",
       "0       Italian Restaurant          French Restaurant  Italian Restaurant   \n",
       "1       Italian Restaurant         Italian Restaurant  Italian Restaurant   \n",
       "2       Italian Restaurant                       Café                Food   \n",
       "3       Italian Restaurant          French Restaurant  Italian Restaurant   \n",
       "4       Italian Restaurant          French Restaurant  Italian Restaurant   \n",
       "5       Italian Restaurant        Monument / Landmark  Italian Restaurant   \n",
       "6       Italian Restaurant               Gourmet Shop  Italian Restaurant   \n",
       "7       Italian Restaurant         Italian Restaurant  Italian Restaurant   \n",
       "8       Italian Restaurant         Persian Restaurant  Italian Restaurant   \n",
       "9       Italian Restaurant          French Restaurant  Italian Restaurant   \n",
       "10        Asian Restaurant          French Restaurant         Pizza Place   \n",
       "11      Italian Restaurant      Vietnamese Restaurant  Italian Restaurant   \n",
       "12      Italian Restaurant        Japanese Restaurant         Pizza Place   \n",
       "13      Italian Restaurant                 Restaurant  Italian Restaurant   \n",
       "14      Italian Restaurant                     Bistro         Pizza Place   \n",
       "15      Italian Restaurant         Turkish Restaurant  Italian Restaurant   \n",
       "16      Italian Restaurant          French Restaurant  Italian Restaurant   \n",
       "17      Italian Restaurant          French Restaurant  Italian Restaurant   \n",
       "18      Italian Restaurant          French Restaurant         Pizza Place   \n",
       "19      Italian Restaurant          French Restaurant  Italian Restaurant   \n",
       "20      Italian Restaurant        Szechuan Restaurant         Pizza Place   \n",
       "21      Italian Restaurant          French Restaurant  Italian Restaurant   \n",
       "22      Italian Restaurant          French Restaurant         Pizza Place   \n",
       "23        Greek Restaurant       Fast Food Restaurant         Pizza Place   \n",
       "24     Lebanese Restaurant                     Bistro  Italian Restaurant   \n",
       "25               Bookstore                 Restaurant         Pizza Place   \n",
       "26      Italian Restaurant        Szechuan Restaurant  Italian Restaurant   \n",
       "27      English Restaurant  Middle Eastern Restaurant  Italian Restaurant   \n",
       "28      English Restaurant         Tibetan Restaurant  Italian Restaurant   \n",
       "29  Furniture / Home Store          French Restaurant  Italian Restaurant   \n",
       "30        Malay Restaurant          Indian Restaurant         Pizza Place   \n",
       "31      Chinese Restaurant                 Restaurant  Italian Restaurant   \n",
       "32  Furniture / Home Store         Italian Restaurant  Italian Restaurant   \n",
       "33                Beer Bar                        Bar  Italian Restaurant   \n",
       "34      Italian Restaurant        Japanese Restaurant         Pizza Place   \n",
       "35      Chinese Restaurant          Korean Restaurant         Pizza Place   \n",
       "36      Italian Restaurant          College Cafeteria          Restaurant   \n",
       "37      Italian Restaurant          French Restaurant  Italian Restaurant   \n",
       "38              Art Museum          College Cafeteria  Italian Restaurant   \n",
       "39      Italian Restaurant          French Restaurant  Italian Restaurant   \n",
       "40      Italian Restaurant          French Restaurant         Pizza Place   \n",
       "41      English Restaurant                 Restaurant  Italian Restaurant   \n",
       "42             Pizza Place                 Restaurant                Food   \n",
       "43     Government Building           Halal Restaurant  Italian Restaurant   \n",
       "44              Steakhouse          French Restaurant  Italian Restaurant   \n",
       "45      Chinese Restaurant         Turkish Restaurant  Italian Restaurant   \n",
       "46              Food Stand         Turkish Restaurant         Pizza Place   \n",
       "47      Italian Restaurant          French Restaurant  Italian Restaurant   \n",
       "48                    None             Sandwich Place  Italian Restaurant   \n",
       "49                    None          French Restaurant                None   \n",
       "\n",
       "                  Toronto              San Francisco  \\\n",
       "0      Italian Restaurant                Pizza Place   \n",
       "1              Restaurant         Italian Restaurant   \n",
       "2      Italian Restaurant         Italian Restaurant   \n",
       "3     American Restaurant                       Food   \n",
       "4      Italian Restaurant                Pizza Place   \n",
       "5     American Restaurant                       Food   \n",
       "6      Italian Restaurant         Italian Restaurant   \n",
       "7      Dim Sum Restaurant      Vietnamese Restaurant   \n",
       "8                Wine Bar         Italian Restaurant   \n",
       "9      Chinese Restaurant        Hawaiian Restaurant   \n",
       "10    American Restaurant          Tuscan Restaurant   \n",
       "11     Italian Restaurant         Italian Restaurant   \n",
       "12     Italian Restaurant         Italian Restaurant   \n",
       "13    Embassy / Consulate         Chinese Restaurant   \n",
       "14             Restaurant  Latin American Restaurant   \n",
       "15     Chinese Restaurant  Middle Eastern Restaurant   \n",
       "16             Restaurant         Italian Restaurant   \n",
       "17     Chinese Restaurant         Chinese Restaurant   \n",
       "18    Szechuan Restaurant                  Irish Pub   \n",
       "19     Italian Restaurant                        Bar   \n",
       "20     Dim Sum Restaurant         Dim Sum Restaurant   \n",
       "21           Noodle House                 Restaurant   \n",
       "22      Korean Restaurant        Szechuan Restaurant   \n",
       "23         Ice Cream Shop          Indian Restaurant   \n",
       "24       Sushi Restaurant        American Restaurant   \n",
       "25     Chinese Restaurant                Coffee Shop   \n",
       "26  Vietnamese Restaurant                     Bakery   \n",
       "27     Italian Restaurant         Seafood Restaurant   \n",
       "28     Italian Restaurant    New American Restaurant   \n",
       "29     Chinese Restaurant          Indian Restaurant   \n",
       "30      Indian Restaurant        American Restaurant   \n",
       "31         Breakfast Spot                Music Venue   \n",
       "32             Restaurant         Chinese Restaurant   \n",
       "33   Caribbean Restaurant               Burger Joint   \n",
       "34                  Diner                     Lounge   \n",
       "35     Dim Sum Restaurant     Furniture / Home Store   \n",
       "36  Vietnamese Restaurant         Chinese Restaurant   \n",
       "37             Food Truck      Vietnamese Restaurant   \n",
       "38                    Bar          Indian Restaurant   \n",
       "39     Chinese Restaurant                Social Club   \n",
       "40     Dim Sum Restaurant                 Steakhouse   \n",
       "41             Restaurant      Vietnamese Restaurant   \n",
       "42     Chinese Restaurant        American Restaurant   \n",
       "43      Indian Restaurant            Thai Restaurant   \n",
       "44     Chinese Restaurant         Seafood Restaurant   \n",
       "45            Event Space            Thai Restaurant   \n",
       "46     Italian Restaurant         Chinese Restaurant   \n",
       "47     Italian Restaurant        American Restaurant   \n",
       "48             Restaurant           Sushi Restaurant   \n",
       "49                   None         Seafood Restaurant   \n",
       "\n",
       "                           Berlin                       Moscow  \\\n",
       "0             Japanese Restaurant           Italian Restaurant   \n",
       "1                  Breakfast Spot          Embassy / Consulate   \n",
       "2               German Restaurant           Italian Restaurant   \n",
       "3                      Restaurant           Chinese Restaurant   \n",
       "4   Vegetarian / Vegan Restaurant                    Nightclub   \n",
       "5             Embassy / Consulate                       Winery   \n",
       "6               French Restaurant  Eastern European Restaurant   \n",
       "7                      Restaurant             Asian Restaurant   \n",
       "8                      Restaurant           Russian Restaurant   \n",
       "9                      Restaurant                  Pizza Place   \n",
       "10             Turkish Restaurant           Seafood Restaurant   \n",
       "11                 Breakfast Spot  Eastern European Restaurant   \n",
       "12              German Restaurant                   Restaurant   \n",
       "13              Trattoria/Osteria          Japanese Restaurant   \n",
       "14          Vietnamese Restaurant   Modern European Restaurant   \n",
       "15                 Breakfast Spot           Russian Restaurant   \n",
       "16              French Restaurant                   Restaurant   \n",
       "17                     Restaurant           Italian Restaurant   \n",
       "18                     Restaurant                   Restaurant   \n",
       "19                 Breakfast Spot                   Restaurant   \n",
       "20             Turkish Restaurant           Italian Restaurant   \n",
       "21                     Restaurant           Russian Restaurant   \n",
       "22                     Restaurant               Breakfast Spot   \n",
       "23                      Hotel Bar           Turkish Restaurant   \n",
       "24              Trattoria/Osteria                         Fair   \n",
       "25              French Restaurant  Eastern European Restaurant   \n",
       "26                      Hotel Bar           Italian Restaurant   \n",
       "27             Chinese Restaurant           College Auditorium   \n",
       "28             Italian Restaurant                     Boutique   \n",
       "29              German Restaurant                   Restaurant   \n",
       "30              German Restaurant               Massage Studio   \n",
       "31                       Beer Bar                     Building   \n",
       "32             Turkish Restaurant                 Dessert Shop   \n",
       "33             Turkish Restaurant           Italian Restaurant   \n",
       "34                 Breakfast Spot           Russian Restaurant   \n",
       "35             Italian Restaurant                   Restaurant   \n",
       "36              Korean Restaurant          American Restaurant   \n",
       "37              German Restaurant           Seafood Restaurant   \n",
       "38             Italian Restaurant               Sandwich Place   \n",
       "39                     Restaurant            French Restaurant   \n",
       "40                Thai Restaurant           Italian Restaurant   \n",
       "41          Vietnamese Restaurant                        Diner   \n",
       "42               Cuban Restaurant           Italian Restaurant   \n",
       "43                     Restaurant                    Hotel Bar   \n",
       "44                 Breakfast Spot    Middle Eastern Restaurant   \n",
       "45                     Restaurant                         None   \n",
       "46              German Restaurant                         None   \n",
       "47             Italian Restaurant                         None   \n",
       "48                     Restaurant                         None   \n",
       "49          Vietnamese Restaurant                         None   \n",
       "\n",
       "                Athens, Greece                     Madrid  \n",
       "0           Italian Restaurant      Performing Arts Venue  \n",
       "1           Italian Restaurant                 Restaurant  \n",
       "2           Italian Restaurant                       Café  \n",
       "3                    Hotel Bar   Mediterranean Restaurant  \n",
       "4                   Restaurant   Mediterranean Restaurant  \n",
       "5                    Irish Pub                 Restaurant  \n",
       "6             Greek Restaurant               Cocktail Bar  \n",
       "7                    Roof Deck   Mediterranean Restaurant  \n",
       "8           Chinese Restaurant         Spanish Restaurant  \n",
       "9                  Social Club         Persian Restaurant  \n",
       "10                        Café         Spanish Restaurant  \n",
       "11            Greek Restaurant          Paella Restaurant  \n",
       "12                     Library                 Restaurant  \n",
       "13            Greek Restaurant         Spanish Restaurant  \n",
       "14    Mediterranean Restaurant                Pizza Place  \n",
       "15          Falafel Restaurant          Indian Restaurant  \n",
       "16                        Café          Indian Restaurant  \n",
       "17                      Lounge         Spanish Restaurant  \n",
       "18            Theme Restaurant         Italian Restaurant  \n",
       "19            Greek Restaurant                   Boutique  \n",
       "20            Greek Restaurant         Spanish Restaurant  \n",
       "21            Greek Restaurant                       Café  \n",
       "22        Pakistani Restaurant                 Restaurant  \n",
       "23                  Restaurant             Breakfast Spot  \n",
       "24            Greek Restaurant          Indian Restaurant  \n",
       "25          Italian Restaurant          Indian Restaurant  \n",
       "26            Greek Restaurant         Chinese Restaurant  \n",
       "27          Italian Restaurant                Pizza Place  \n",
       "28    Mediterranean Restaurant                Pizza Place  \n",
       "29            Halal Restaurant           Asian Restaurant  \n",
       "30            Greek Restaurant         Spanish Restaurant  \n",
       "31           Indian Restaurant                 Restaurant  \n",
       "32            Greek Restaurant                Music Venue  \n",
       "33                   Gastropub                 Restaurant  \n",
       "34                      Lounge          Indian Restaurant  \n",
       "35          Chinese Restaurant          Indian Restaurant  \n",
       "36           Indian Restaurant         Chinese Restaurant  \n",
       "37                  Restaurant                 Restaurant  \n",
       "38            Greek Restaurant                Coffee Shop  \n",
       "39                   Gastropub         Spanish Restaurant  \n",
       "40            Greek Restaurant         Italian Restaurant  \n",
       "41                  Food Court          Indian Restaurant  \n",
       "42             Thai Restaurant                       Café  \n",
       "43           Indian Restaurant         Chinese Restaurant  \n",
       "44           Afghan Restaurant         Spanish Restaurant  \n",
       "45            Greek Restaurant                 Restaurant  \n",
       "46                         Bar  Middle Eastern Restaurant  \n",
       "47  Modern European Restaurant                 Restaurant  \n",
       "48                    Wine Bar         Spanish Restaurant  \n",
       "49            Greek Restaurant         Spanish Restaurant  "
      ]
     },
     "execution_count": 8,
     "metadata": {},
     "output_type": "execute_result"
    }
   ],
   "source": [
    "GlobalRestaurantsCuisine=[]\n",
    "for i in range(len(cities)):\n",
    "    cuisine=[]\n",
    "    for j in range(len(GlobalRestaurants[cities[i]])):\n",
    "        if GlobalRestaurants[cities[i]][j] is not None:\n",
    "            cuisine.append(GlobalRestaurants[cities[i]][j][0]['name'])\n",
    "    \n",
    "    GlobalRestaurantsCuisine.append(cuisine) \n",
    "    \n",
    "GlobalRestaurantsCuisine=pd.DataFrame(GlobalRestaurantsCuisine).T.set_axis(cities,axis=1,inplace=False)\n",
    "GlobalRestaurantsCuisine"
   ]
  },
  {
   "cell_type": "code",
   "execution_count": 9,
   "metadata": {},
   "outputs": [],
   "source": [
    "#Athens 894697, San Francisco 20696, New York 692739, Toronto 182495, London 53400, Paris 174000, Berlin 20000, Moscow NAN, Madrid 23894\n",
    "#Athens 3753783, San Francisco 883305, New York 8175133, Toronto 2731571, London 8908081, Paris 2140526, Berlin 6004857, Moscow 12506468, Madrid 3223334\n",
    "\n",
    "cities=('London','Paris','New York City','Toronto','San Francisco','Berlin','Moscow','Athens, Greece','Madrid')\n",
    "ItalianPopulation = {'City':['London', 'Paris', 'New York City', 'Toronto','San Francisco', 'Berlin', 'Moscow', 'Athens, Greece', 'Madrid'], 'Italian Population':[53400,174000,692739,182495,20696,20000,np.nan,894697,23894]}\n",
    "TotalPopulation={'City':['London', 'Paris', 'New York City ', 'Toronto', 'San Francisco', 'Berlin', 'Moscow', 'Athens, Greece' ,'Madrid'], 'Total Population':[8908081,2140526,8175133,2731571,883305,6004857,12506468,3753783,3223334]}"
   ]
  },
  {
   "cell_type": "markdown",
   "metadata": {},
   "source": [
    "#### Create a dataframe of all the terms that suggest Italian cuisine, count the number and compare with population data and convert to bar chart."
   ]
  },
  {
   "cell_type": "code",
   "execution_count": 10,
   "metadata": {},
   "outputs": [
    {
     "data": {
      "text/html": [
       "<div>\n",
       "<style scoped>\n",
       "    .dataframe tbody tr th:only-of-type {\n",
       "        vertical-align: middle;\n",
       "    }\n",
       "\n",
       "    .dataframe tbody tr th {\n",
       "        vertical-align: top;\n",
       "    }\n",
       "\n",
       "    .dataframe thead th {\n",
       "        text-align: right;\n",
       "    }\n",
       "</style>\n",
       "<table border=\"1\" class=\"dataframe\">\n",
       "  <thead>\n",
       "    <tr style=\"text-align: right;\">\n",
       "      <th></th>\n",
       "      <th>London</th>\n",
       "      <th>Paris</th>\n",
       "      <th>New York City</th>\n",
       "      <th>Toronto</th>\n",
       "      <th>San Francisco</th>\n",
       "      <th>Berlin</th>\n",
       "      <th>Moscow</th>\n",
       "      <th>Athens, Greece</th>\n",
       "      <th>Madrid</th>\n",
       "    </tr>\n",
       "  </thead>\n",
       "  <tbody>\n",
       "    <tr>\n",
       "      <th>0</th>\n",
       "      <td>30</td>\n",
       "      <td>3</td>\n",
       "      <td>46</td>\n",
       "      <td>11</td>\n",
       "      <td>9</td>\n",
       "      <td>4</td>\n",
       "      <td>9</td>\n",
       "      <td>5</td>\n",
       "      <td>5</td>\n",
       "    </tr>\n",
       "  </tbody>\n",
       "</table>\n",
       "</div>"
      ],
      "text/plain": [
       "   London  Paris  New York City  Toronto  San Francisco  Berlin  Moscow  \\\n",
       "0      30      3             46       11              9       4       9   \n",
       "\n",
       "   Athens, Greece  Madrid  \n",
       "0               5       5  "
      ]
     },
     "execution_count": 10,
     "metadata": {},
     "output_type": "execute_result"
    }
   ],
   "source": [
    "from itertools import compress\n",
    "FreqTabItalian=[]\n",
    "FreqTabTotal=[]\n",
    "NumberOfRestaurants=[]\n",
    "\n",
    "for i in range(len(cities)):\n",
    "    x=GlobalRestaurantsCuisine[cities[i]].str.contains('Italian|Pizza',case=False) # filter out everything but Pizza and Italian\n",
    "    f=len(list(compress(GlobalRestaurantsCuisine[cities[i]], x)))\n",
    "    FreqTabItalian.append(f)\n",
    "    FreqTabTotal.append(f)\n",
    "    NumberOfRestaurants.append(f)\n",
    "    \n",
    "FreqTabItalian\n",
    "#FreqTabItalian = [i*100000 for i in FreqTabItalian]\n",
    "FreqTabTotal = [i*100000 for i in FreqTabTotal]\n",
    "\n",
    "\n",
    "#[894697,20696,692739,182495,53400,174000,20000,'?',23894]\n",
    "#[3753783,883305,8175133,2731571,8908081,2140526,6004857,12506468,3223334]\n",
    "\n",
    "for i in range(len(cities)):\n",
    "    #FreqTabItalian[i]=FreqTabItalian[i]/ItalianPopulation['Italian Population'][i]\n",
    "    FreqTabTotal[i]=FreqTabTotal[i]/TotalPopulation['Total Population'][i]    \n",
    "    \n",
    "FreqTabItalian=pd.DataFrame(FreqTabItalian).T\n",
    "FreqTabTotal=pd.DataFrame(FreqTabTotal).T\n",
    "FreqTabItalian.set_axis(cities,axis=1,inplace=True)\n",
    "FreqTabTotal.set_axis(cities,axis=1,inplace=True)\n",
    "\n",
    "FreqTabItalian"
   ]
  },
  {
   "cell_type": "code",
   "execution_count": 11,
   "metadata": {},
   "outputs": [
    {
     "data": {
      "text/html": [
       "<div>\n",
       "<style scoped>\n",
       "    .dataframe tbody tr th:only-of-type {\n",
       "        vertical-align: middle;\n",
       "    }\n",
       "\n",
       "    .dataframe tbody tr th {\n",
       "        vertical-align: top;\n",
       "    }\n",
       "\n",
       "    .dataframe thead th {\n",
       "        text-align: right;\n",
       "    }\n",
       "</style>\n",
       "<table border=\"1\" class=\"dataframe\">\n",
       "  <thead>\n",
       "    <tr style=\"text-align: right;\">\n",
       "      <th></th>\n",
       "      <th>London</th>\n",
       "      <th>Paris</th>\n",
       "      <th>New York City</th>\n",
       "      <th>Toronto</th>\n",
       "      <th>San Francisco</th>\n",
       "      <th>Berlin</th>\n",
       "      <th>Moscow</th>\n",
       "      <th>Athens, Greece</th>\n",
       "      <th>Madrid</th>\n",
       "    </tr>\n",
       "  </thead>\n",
       "  <tbody>\n",
       "    <tr>\n",
       "      <th>0</th>\n",
       "      <td>0.336773</td>\n",
       "      <td>0.140152</td>\n",
       "      <td>0.562682</td>\n",
       "      <td>0.402699</td>\n",
       "      <td>1.018901</td>\n",
       "      <td>0.066613</td>\n",
       "      <td>0.071963</td>\n",
       "      <td>0.133199</td>\n",
       "      <td>0.155119</td>\n",
       "    </tr>\n",
       "  </tbody>\n",
       "</table>\n",
       "</div>"
      ],
      "text/plain": [
       "     London     Paris  New York City   Toronto  San Francisco    Berlin  \\\n",
       "0  0.336773  0.140152       0.562682  0.402699       1.018901  0.066613   \n",
       "\n",
       "     Moscow  Athens, Greece    Madrid  \n",
       "0  0.071963        0.133199  0.155119  "
      ]
     },
     "execution_count": 11,
     "metadata": {},
     "output_type": "execute_result"
    }
   ],
   "source": [
    "FreqTabTotal"
   ]
  },
  {
   "cell_type": "markdown",
   "metadata": {},
   "source": [
    "#### Italian Restaurants per 100,000 of Total Population"
   ]
  },
  {
   "cell_type": "code",
   "execution_count": 12,
   "metadata": {},
   "outputs": [
    {
     "name": "stderr",
     "output_type": "stream",
     "text": [
      "/opt/conda/envs/Python36/lib/python3.6/site-packages/matplotlib/figure.py:98: MatplotlibDeprecationWarning: \n",
      "Adding an axes using the same arguments as a previous axes currently reuses the earlier instance.  In a future version, a new instance will always be created and returned.  Meanwhile, this warning can be suppressed, and the future behavior ensured, by passing a unique label to each axes instance.\n",
      "  \"Adding an axes using the same arguments as a previous axes \"\n"
     ]
    },
    {
     "data": {
      "text/plain": [
       "Text(0.5, 1.0, 'Italian Restaurants per 100,000 of Total Population')"
      ]
     },
     "execution_count": 12,
     "metadata": {},
     "output_type": "execute_result"
    },
    {
     "data": {
      "image/png": "[encoded data removed]",
      "text/plain": [
       "<Figure size 432x288 with 1 Axes>"
      ]
     },
     "metadata": {
      "needs_background": "light"
     },
     "output_type": "display_data"
    }
   ],
   "source": [
    "p=FreqTabTotal.plot.bar()\n",
    "ax1 = plt.axes()\n",
    "ax1.xaxis.label.set_visible(False)\n",
    "plt.rcParams['axes.facecolor'] = 'lightgrey'\n",
    "plt.title(\"Italian Restaurants per 100,000 of Total Population\")"
   ]
  },
  {
   "cell_type": "code",
   "execution_count": 13,
   "metadata": {},
   "outputs": [],
   "source": [
    "import matplotlib.pyplot as plt\n",
    "import matplotlib.colors as colors\n",
    "import matplotlib.cm as cmx"
   ]
  },
  {
   "cell_type": "code",
   "execution_count": 14,
   "metadata": {},
   "outputs": [
    {
     "data": {
      "text/html": [
       "<div>\n",
       "<style scoped>\n",
       "    .dataframe tbody tr th:only-of-type {\n",
       "        vertical-align: middle;\n",
       "    }\n",
       "\n",
       "    .dataframe tbody tr th {\n",
       "        vertical-align: top;\n",
       "    }\n",
       "\n",
       "    .dataframe thead th {\n",
       "        text-align: right;\n",
       "    }\n",
       "</style>\n",
       "<table border=\"1\" class=\"dataframe\">\n",
       "  <thead>\n",
       "    <tr style=\"text-align: right;\">\n",
       "      <th></th>\n",
       "      <th>City</th>\n",
       "      <th>Italian Population</th>\n",
       "      <th>Total Population</th>\n",
       "      <th>No. of Italian Restaurants</th>\n",
       "      <th>Proportion %</th>\n",
       "      <th>Labels</th>\n",
       "    </tr>\n",
       "  </thead>\n",
       "  <tbody>\n",
       "    <tr>\n",
       "      <th>0</th>\n",
       "      <td>London</td>\n",
       "      <td>53400.0</td>\n",
       "      <td>8908081</td>\n",
       "      <td>30</td>\n",
       "      <td>0.599456</td>\n",
       "      <td>London</td>\n",
       "    </tr>\n",
       "    <tr>\n",
       "      <th>1</th>\n",
       "      <td>Paris</td>\n",
       "      <td>174000.0</td>\n",
       "      <td>2140526</td>\n",
       "      <td>3</td>\n",
       "      <td>8.128843</td>\n",
       "      <td>Paris</td>\n",
       "    </tr>\n",
       "    <tr>\n",
       "      <th>2</th>\n",
       "      <td>New York City</td>\n",
       "      <td>692739.0</td>\n",
       "      <td>8175133</td>\n",
       "      <td>46</td>\n",
       "      <td>8.473734</td>\n",
       "      <td>New York City</td>\n",
       "    </tr>\n",
       "    <tr>\n",
       "      <th>3</th>\n",
       "      <td>Toronto</td>\n",
       "      <td>182495.0</td>\n",
       "      <td>2731571</td>\n",
       "      <td>11</td>\n",
       "      <td>6.680954</td>\n",
       "      <td>Toronto</td>\n",
       "    </tr>\n",
       "    <tr>\n",
       "      <th>4</th>\n",
       "      <td>San Francisco</td>\n",
       "      <td>20696.0</td>\n",
       "      <td>883305</td>\n",
       "      <td>9</td>\n",
       "      <td>2.343019</td>\n",
       "      <td>San Francisco</td>\n",
       "    </tr>\n",
       "    <tr>\n",
       "      <th>5</th>\n",
       "      <td>Berlin</td>\n",
       "      <td>20000.0</td>\n",
       "      <td>6004857</td>\n",
       "      <td>4</td>\n",
       "      <td>0.333064</td>\n",
       "      <td>Berlin</td>\n",
       "    </tr>\n",
       "    <tr>\n",
       "      <th>6</th>\n",
       "      <td>Moscow</td>\n",
       "      <td>NaN</td>\n",
       "      <td>12506468</td>\n",
       "      <td>9</td>\n",
       "      <td>NaN</td>\n",
       "      <td>Moscow</td>\n",
       "    </tr>\n",
       "    <tr>\n",
       "      <th>7</th>\n",
       "      <td>Athens, Greece</td>\n",
       "      <td>894697.0</td>\n",
       "      <td>3753783</td>\n",
       "      <td>5</td>\n",
       "      <td>23.834542</td>\n",
       "      <td>Athens, Greece</td>\n",
       "    </tr>\n",
       "    <tr>\n",
       "      <th>8</th>\n",
       "      <td>Madrid</td>\n",
       "      <td>23894.0</td>\n",
       "      <td>3223334</td>\n",
       "      <td>5</td>\n",
       "      <td>0.741282</td>\n",
       "      <td>Madrid</td>\n",
       "    </tr>\n",
       "  </tbody>\n",
       "</table>\n",
       "</div>"
      ],
      "text/plain": [
       "             City  Italian Population  Total Population  \\\n",
       "0          London             53400.0           8908081   \n",
       "1           Paris            174000.0           2140526   \n",
       "2   New York City            692739.0           8175133   \n",
       "3         Toronto            182495.0           2731571   \n",
       "4   San Francisco             20696.0            883305   \n",
       "5          Berlin             20000.0           6004857   \n",
       "6          Moscow                 NaN          12506468   \n",
       "7  Athens, Greece            894697.0           3753783   \n",
       "8          Madrid             23894.0           3223334   \n",
       "\n",
       "   No. of Italian Restaurants  Proportion %          Labels  \n",
       "0                          30      0.599456          London  \n",
       "1                           3      8.128843           Paris  \n",
       "2                          46      8.473734   New York City  \n",
       "3                          11      6.680954         Toronto  \n",
       "4                           9      2.343019   San Francisco  \n",
       "5                           4      0.333064          Berlin  \n",
       "6                           9           NaN          Moscow  \n",
       "7                           5     23.834542  Athens, Greece  \n",
       "8                           5      0.741282          Madrid  "
      ]
     },
     "execution_count": 14,
     "metadata": {},
     "output_type": "execute_result"
    }
   ],
   "source": [
    "Population = pd.DataFrame(ItalianPopulation)\n",
    "#Population=ItalianPopulation.append(Population.No. Total Population)\n",
    "Population['Total Population']=TotalPopulation['Total Population']\n",
    "Population['No. of Italian Restaurants']=NumberOfRestaurants\n",
    "Population['Proportion %']=Population[\"Italian Population\"]/Population[\"Total Population\"]*100\n",
    "Population['Labels']=cities\n",
    "Population"
   ]
  },
  {
   "cell_type": "markdown",
   "metadata": {},
   "source": [
    "#### No of Restaurants vs Proportion of Italian Population"
   ]
  },
  {
   "cell_type": "code",
   "execution_count": 15,
   "metadata": {},
   "outputs": [
    {
     "data": {
      "text/plain": [
       "<matplotlib.legend.Legend at 0x7f87c81b3dd8>"
      ]
     },
     "execution_count": 15,
     "metadata": {},
     "output_type": "execute_result"
    },
    {
     "data": {
      "image/png": "[encoded data removed]",
      "text/plain": [
       "<Figure size 432x288 with 1 Axes>"
      ]
     },
     "metadata": {
      "needs_background": "light"
     },
     "output_type": "display_data"
    }
   ],
   "source": [
    "z = range(1,len(cities))\n",
    "hot = plt.get_cmap('hot')\n",
    "cNorm  = colors.Normalize(vmin=0, vmax=len(cities))\n",
    "scalarMap = cmx.ScalarMappable(norm=cNorm, cmap=hot)\n",
    "\n",
    "\n",
    "for i in range(len(cities)):\n",
    "    plt.scatter(Population['Proportion %'][i],Population['No. of Italian Restaurants'][i],label=Population['Labels'][i], color=scalarMap.to_rgba(i))\n",
    "\n",
    "plt.title(\"No of Restaurants vs Proportion of Italian Population\")\n",
    "plt.ylabel(\"No. of Restaurants\")\n",
    "plt.xlabel(\"Propotion (%)\")\n",
    "plt.legend(loc='upper right')"
   ]
  },
  {
   "cell_type": "code",
   "execution_count": 16,
   "metadata": {},
   "outputs": [
    {
     "name": "stdout",
     "output_type": "stream",
     "text": [
      "The geograpical coordinate of New York City are 40.7127281, -74.0060152.\n"
     ]
    }
   ],
   "source": [
    "i=2 #NYC\n",
    "search_query='Restaurant'\n",
    "resultssearch=Settings(i,radius,limit,search_query)\n",
    "\n",
    "venues=[]\n",
    "for k in range(len(resultssearch['response']['venues'])):\n",
    "    venues.append(GetVenueInfo(resultssearch['response']['venues'][k]['id']))\n",
    "    "
   ]
  },
  {
   "cell_type": "code",
   "execution_count": 17,
   "metadata": {},
   "outputs": [],
   "source": [
    "venuedf=pd.DataFrame(columns=['Name','Idnum','Category','Lat','Lon','Address','CrossStreet','PostalCode','Likes','Rating','PriceTier'])"
   ]
  },
  {
   "cell_type": "code",
   "execution_count": 18,
   "metadata": {},
   "outputs": [],
   "source": [
    "for i in range(len(venues)):\n",
    "    Name=venues[i]['response']['venue']['name']\n",
    "    Idnum=venues[i]['response']['venue']['id']\n",
    "    Lat=venues[i]['response']['venue']['location']['lat']\n",
    "    Lon=venues[i]['response']['venue']['location']['lng']\n",
    "    \n",
    "    try:\n",
    "        Category=resultssearch['response']['venues'][i]['categories'][0]['name']\n",
    "    except:\n",
    "        Category=np.nan\n",
    "    \n",
    "    try:\n",
    "        Address=venues[i]['response']['venue']['location']['address']\n",
    "    except:\n",
    "        Address=np.nan\n",
    "        \n",
    "    try:\n",
    "        CrossStreet=venues[i]['response']['venue']['location']['crossStreet']\n",
    "    except:\n",
    "        CrossStreet=np.nan\n",
    "        \n",
    "    try:\n",
    "        PostalCode=venues[i]['response']['venue']['location']['postalCode']\n",
    "    except:\n",
    "        PostalCode=np.nan\n",
    "        \n",
    "    try:\n",
    "        Likes=venues[i]['response']['venue']['likes']['count']\n",
    "    except:\n",
    "        Likes=np.nan\n",
    "    \n",
    "    try:\n",
    "        Rating=venues[i]['response']['venue']['rating']\n",
    "    except:\n",
    "        Rating=np.nan\n",
    "    \n",
    "    try:\n",
    "        PriceTier=venues[i]['response']['venue']['price']['tier']\n",
    "    except:\n",
    "        PriceTier=np.nan\n",
    "    \n",
    "    \n",
    "    venuedf = venuedf.append({'Name': Name,\n",
    "                   'Idnum': Idnum,\n",
    "                   'Category': Category,\n",
    "                   'Lat': Lat,\n",
    "                   'Lon': Lon,\n",
    "                   'Address': Address,\n",
    "                   'CrossStreet': CrossStreet,\n",
    "                   'PostalCode': PostalCode,\n",
    "                   'Likes': Likes,\n",
    "                   'Rating': Rating,\n",
    "                   'PriceTier': PriceTier},ignore_index=True)"
   ]
  },
  {
   "cell_type": "code",
   "execution_count": 19,
   "metadata": {},
   "outputs": [],
   "source": [
    "x=venuedf.Lat\n",
    "y=venuedf.Lon\n",
    "z1=venuedf.Likes\n",
    "z2=venuedf.Rating"
   ]
  },
  {
   "cell_type": "code",
   "execution_count": 25,
   "metadata": {},
   "outputs": [],
   "source": [
    "venuedfCategorised=venuedf"
   ]
  },
  {
   "cell_type": "markdown",
   "metadata": {},
   "source": [
    "#### Likes and ratings compared against location (Lat, Long)"
   ]
  },
  {
   "cell_type": "code",
   "execution_count": 26,
   "metadata": {},
   "outputs": [
    {
     "data": {
      "text/plain": [
       "Text(0.5, 1.0, 'Likes vs Location')"
      ]
     },
     "execution_count": 26,
     "metadata": {},
     "output_type": "execute_result"
    },
    {
     "data": {
      "image/png": "[encoded data removed]",
      "text/plain": [
       "<Figure size 432x288 with 1 Axes>"
      ]
     },
     "metadata": {
      "needs_background": "light"
     },
     "output_type": "display_data"
    }
   ],
   "source": [
    "plt.scatter(x,y,c=z1,cmap=\"hot\")\n",
    "plt.title(\"Likes vs Location\")"
   ]
  },
  {
   "cell_type": "code",
   "execution_count": 27,
   "metadata": {},
   "outputs": [
    {
     "data": {
      "text/plain": [
       "Text(0.5, 1.0, 'Rating vs Location')"
      ]
     },
     "execution_count": 27,
     "metadata": {},
     "output_type": "execute_result"
    },
    {
     "data": {
      "image/png": "[encoded data removed]",
      "text/plain": [
       "<Figure size 432x288 with 1 Axes>"
      ]
     },
     "metadata": {
      "needs_background": "light"
     },
     "output_type": "display_data"
    }
   ],
   "source": [
    "plt.scatter(x,y,c=z2,cmap=\"hot\")\n",
    "plt.title(\"Rating vs Location\")"
   ]
  },
  {
   "cell_type": "markdown",
   "metadata": {},
   "source": [
    "#### Ratings and Likes vs Price Tier"
   ]
  },
  {
   "cell_type": "code",
   "execution_count": 28,
   "metadata": {},
   "outputs": [
    {
     "data": {
      "text/plain": [
       "Text(0.5, 1.0, 'Rating vs PriceTier')"
      ]
     },
     "execution_count": 28,
     "metadata": {},
     "output_type": "execute_result"
    },
    {
     "data": {
      "image/png": "[encoded data removed]",
      "text/plain": [
       "<Figure size 432x288 with 1 Axes>"
      ]
     },
     "metadata": {
      "needs_background": "light"
     },
     "output_type": "display_data"
    }
   ],
   "source": [
    "plt.scatter(venuedf.PriceTier,venuedf.Rating)\n",
    "plt.title(\"Rating vs PriceTier\")"
   ]
  },
  {
   "cell_type": "code",
   "execution_count": 29,
   "metadata": {},
   "outputs": [
    {
     "data": {
      "text/plain": [
       "Text(0.5, 1.0, 'Likes Vs PriceTier')"
      ]
     },
     "execution_count": 29,
     "metadata": {},
     "output_type": "execute_result"
    },
    {
     "data": {
      "image/png": "[encoded data removed]",
      "text/plain": [
       "<Figure size 432x288 with 1 Axes>"
      ]
     },
     "metadata": {
      "needs_background": "light"
     },
     "output_type": "display_data"
    }
   ],
   "source": [
    "plt.scatter(venuedf.PriceTier,venuedf.Likes)\n",
    "plt.title(\"Likes Vs PriceTier\")"
   ]
  },
  {
   "cell_type": "code",
   "execution_count": 30,
   "metadata": {},
   "outputs": [],
   "source": [
    "from sklearn.preprocessing import LabelEncoder\n",
    "number=LabelEncoder()\n",
    "venuedfCategorised.Category=number.fit_transform(venuedf['Category'].astype('str'))"
   ]
  },
  {
   "cell_type": "markdown",
   "metadata": {},
   "source": [
    "##### The first graph below shows the total likes aggregated for each measure of price tier. e.g price tier 1 has accumulated a total of ~12K likes\n",
    "##### The second graph shows the number of venues associated with each tier.\n",
    "##### These graphs are repeated for Ratings vs PriceTier"
   ]
  },
  {
   "cell_type": "code",
   "execution_count": 31,
   "metadata": {},
   "outputs": [
    {
     "name": "stdout",
     "output_type": "stream",
     "text": [
      "Sum of Likes\n",
      "AxesSubplot(0.125,0.125;0.775x0.755)\n",
      "Number of respective Tier\n",
      "AxesSubplot(0.125,0.125;0.775x0.755)\n"
     ]
    },
    {
     "data": {
      "image/png": "[encoded data removed]",
      "text/plain": [
       "<Figure size 432x288 with 1 Axes>"
      ]
     },
     "metadata": {
      "needs_background": "light"
     },
     "output_type": "display_data"
    },
    {
     "data": {
      "image/png": "[encoded data removed]",
      "text/plain": [
       "<Figure size 432x288 with 1 Axes>"
      ]
     },
     "metadata": {
      "needs_background": "light"
     },
     "output_type": "display_data"
    }
   ],
   "source": [
    "print(\"Sum of Likes\")\n",
    "print(venuedf.groupby(['PriceTier'])['Likes'].sum().reset_index().plot())\n",
    "print(\"Number of respective Tier\")\n",
    "print(venuedf.groupby(['PriceTier'])['Likes'].count().reset_index().plot())"
   ]
  },
  {
   "cell_type": "code",
   "execution_count": 32,
   "metadata": {},
   "outputs": [
    {
     "name": "stdout",
     "output_type": "stream",
     "text": [
      "Sum of Likes\n",
      "AxesSubplot(0.125,0.125;0.775x0.755)\n",
      "Number of respective Tier\n",
      "AxesSubplot(0.125,0.125;0.775x0.755)\n"
     ]
    },
    {
     "data": {
      "image/png": "[encoded data removed]",
      "text/plain": [
       "<Figure size 432x288 with 1 Axes>"
      ]
     },
     "metadata": {
      "needs_background": "light"
     },
     "output_type": "display_data"
    },
    {
     "data": {
      "image/png": "[encoded data removed]",
      "text/plain": [
       "<Figure size 432x288 with 1 Axes>"
      ]
     },
     "metadata": {
      "needs_background": "light"
     },
     "output_type": "display_data"
    }
   ],
   "source": [
    "print(\"Sum of Likes\")\n",
    "print(venuedf.groupby(['PriceTier'])['Rating'].sum().reset_index().plot())\n",
    "print(\"Number of respective Tier\")\n",
    "print(venuedf.groupby(['PriceTier'])['Rating'].count().reset_index().plot())\n"
   ]
  },
  {
   "cell_type": "markdown",
   "metadata": {},
   "source": [
    "#### Rating vs Postal Code Scatter Plot"
   ]
  },
  {
   "cell_type": "code",
   "execution_count": 33,
   "metadata": {},
   "outputs": [
    {
     "name": "stdout",
     "output_type": "stream",
     "text": [
      "['10013', '10006', '10002', '10007', '10038', '10014', '11201', '10004', '10012', '10036', '10003', '10001']\n"
     ]
    },
    {
     "data": {
      "text/plain": [
       "Text(0.5, 1.0, 'Rating vs Postal Code')"
      ]
     },
     "execution_count": 33,
     "metadata": {},
     "output_type": "execute_result"
    },
    {
     "data": {
      "image/png": "[encoded data removed]",
      "text/plain": [
       "<Figure size 432x288 with 1 Axes>"
      ]
     },
     "metadata": {
      "needs_background": "light"
     },
     "output_type": "display_data"
    }
   ],
   "source": [
    "print(list(venuedfCategorised.PostalCode.unique()))\n",
    "venuedfCategorised.PostalCode.unique()\n",
    "plt.scatter(venuedf.PostalCode,venuedf.Rating)\n",
    "plt.title(\"Rating vs Postal Code\")"
   ]
  },
  {
   "cell_type": "markdown",
   "metadata": {},
   "source": [
    "#### Sum of Likes vs Postal Code"
   ]
  },
  {
   "cell_type": "code",
   "execution_count": 46,
   "metadata": {},
   "outputs": [
    {
     "data": {
      "text/html": [
       "<div>\n",
       "<style scoped>\n",
       "    .dataframe tbody tr th:only-of-type {\n",
       "        vertical-align: middle;\n",
       "    }\n",
       "\n",
       "    .dataframe tbody tr th {\n",
       "        vertical-align: top;\n",
       "    }\n",
       "\n",
       "    .dataframe thead th {\n",
       "        text-align: right;\n",
       "    }\n",
       "</style>\n",
       "<table border=\"1\" class=\"dataframe\">\n",
       "  <thead>\n",
       "    <tr style=\"text-align: right;\">\n",
       "      <th></th>\n",
       "      <th>PostalCode</th>\n",
       "      <th>Likes</th>\n",
       "    </tr>\n",
       "  </thead>\n",
       "  <tbody>\n",
       "    <tr>\n",
       "      <th>0</th>\n",
       "      <td>10001</td>\n",
       "      <td>1099</td>\n",
       "    </tr>\n",
       "    <tr>\n",
       "      <th>1</th>\n",
       "      <td>10002</td>\n",
       "      <td>3150</td>\n",
       "    </tr>\n",
       "    <tr>\n",
       "      <th>2</th>\n",
       "      <td>10003</td>\n",
       "      <td>407</td>\n",
       "    </tr>\n",
       "    <tr>\n",
       "      <th>3</th>\n",
       "      <td>10004</td>\n",
       "      <td>21</td>\n",
       "    </tr>\n",
       "    <tr>\n",
       "      <th>4</th>\n",
       "      <td>10006</td>\n",
       "      <td>305</td>\n",
       "    </tr>\n",
       "    <tr>\n",
       "      <th>5</th>\n",
       "      <td>10007</td>\n",
       "      <td>450</td>\n",
       "    </tr>\n",
       "    <tr>\n",
       "      <th>6</th>\n",
       "      <td>10012</td>\n",
       "      <td>300</td>\n",
       "    </tr>\n",
       "    <tr>\n",
       "      <th>7</th>\n",
       "      <td>10013</td>\n",
       "      <td>3027</td>\n",
       "    </tr>\n",
       "    <tr>\n",
       "      <th>8</th>\n",
       "      <td>10014</td>\n",
       "      <td>297</td>\n",
       "    </tr>\n",
       "    <tr>\n",
       "      <th>9</th>\n",
       "      <td>10036</td>\n",
       "      <td>3461</td>\n",
       "    </tr>\n",
       "    <tr>\n",
       "      <th>10</th>\n",
       "      <td>10038</td>\n",
       "      <td>259</td>\n",
       "    </tr>\n",
       "    <tr>\n",
       "      <th>11</th>\n",
       "      <td>11201</td>\n",
       "      <td>1048</td>\n",
       "    </tr>\n",
       "  </tbody>\n",
       "</table>\n",
       "</div>"
      ],
      "text/plain": [
       "   PostalCode  Likes\n",
       "0       10001   1099\n",
       "1       10002   3150\n",
       "2       10003    407\n",
       "3       10004     21\n",
       "4       10006    305\n",
       "5       10007    450\n",
       "6       10012    300\n",
       "7       10013   3027\n",
       "8       10014    297\n",
       "9       10036   3461\n",
       "10      10038    259\n",
       "11      11201   1048"
      ]
     },
     "execution_count": 46,
     "metadata": {},
     "output_type": "execute_result"
    }
   ],
   "source": [
    "venuedfCategorised.groupby(['PostalCode'])['Likes'].sum().reset_index()\n",
    "#plt.title(\"Likes vs PostalCode\")"
   ]
  },
  {
   "cell_type": "markdown",
   "metadata": {},
   "source": [
    "#### Sum of Ratings vs Postal Code"
   ]
  },
  {
   "cell_type": "code",
   "execution_count": 35,
   "metadata": {},
   "outputs": [
    {
     "data": {
      "text/plain": [
       "Text(0.5, 1.0, 'Rating vs PostalCode')"
      ]
     },
     "execution_count": 35,
     "metadata": {},
     "output_type": "execute_result"
    },
    {
     "data": {
      "image/png": "[encoded data removed]",
      "text/plain": [
       "<Figure size 432x288 with 1 Axes>"
      ]
     },
     "metadata": {
      "needs_background": "light"
     },
     "output_type": "display_data"
    }
   ],
   "source": [
    "venuedfCategorised.groupby(['PostalCode'])['Rating'].sum().reset_index().plot()\n",
    "plt.title(\"Rating vs PostalCode\")"
   ]
  },
  {
   "cell_type": "markdown",
   "metadata": {},
   "source": [
    "#### Sum of Likes vs Category"
   ]
  },
  {
   "cell_type": "code",
   "execution_count": 36,
   "metadata": {},
   "outputs": [
    {
     "data": {
      "text/plain": [
       "Text(0.5, 1.0, 'Likes vs Category (Restaurant type)')"
      ]
     },
     "execution_count": 36,
     "metadata": {},
     "output_type": "execute_result"
    },
    {
     "data": {
      "image/png": "[encoded data removed]",
      "text/plain": [
       "<Figure size 432x288 with 1 Axes>"
      ]
     },
     "metadata": {
      "needs_background": "light"
     },
     "output_type": "display_data"
    }
   ],
   "source": [
    "venuedfCategorised.groupby(['Category'])['Likes'].sum().reset_index().plot()\n",
    "plt.title(\"Likes vs Category (Restaurant type)\")"
   ]
  },
  {
   "cell_type": "markdown",
   "metadata": {},
   "source": [
    "#### Sum of Rating vs Category"
   ]
  },
  {
   "cell_type": "code",
   "execution_count": 37,
   "metadata": {},
   "outputs": [
    {
     "name": "stdout",
     "output_type": "stream",
     "text": [
      "    Category  Rating\n",
      "0          0    17.6\n",
      "1          1     8.8\n",
      "2          2     8.7\n",
      "3          3     8.1\n",
      "4          4     0.0\n",
      "5          5    80.3\n",
      "6          6     7.1\n",
      "7          7    30.2\n",
      "8          8    16.1\n",
      "9          9    49.1\n",
      "10        10     7.0\n",
      "11        11     5.6\n",
      "12        12     0.0\n",
      "13        13     7.0\n",
      "14        14    15.2\n",
      "15        15     0.0\n",
      "16        16     6.3\n",
      "17        17     8.3\n",
      "18        18     7.3\n",
      "19        19     0.0\n",
      "20        20    15.5\n",
      "21        21     7.7\n",
      "AxesSubplot(0.125,0.125;0.775x0.755)\n"
     ]
    },
    {
     "data": {
      "text/plain": [
       "Text(0.5, 1.0, 'Rating vs Category (Restaurant type)')"
      ]
     },
     "execution_count": 37,
     "metadata": {},
     "output_type": "execute_result"
    },
    {
     "data": {
      "image/png": "[encoded data removed]",
      "text/plain": [
       "<Figure size 432x288 with 1 Axes>"
      ]
     },
     "metadata": {
      "needs_background": "light"
     },
     "output_type": "display_data"
    }
   ],
   "source": [
    "print(venuedfCategorised.groupby(['Category'])['Rating'].sum().reset_index())\n",
    "print(venuedfCategorised.groupby(['Category'])['Rating'].sum().reset_index().plot())\n",
    "plt.title(\"Rating vs Category (Restaurant type)\")"
   ]
  },
  {
   "cell_type": "markdown",
   "metadata": {},
   "source": [
    "#### Likes vs Cross Street"
   ]
  },
  {
   "cell_type": "code",
   "execution_count": 38,
   "metadata": {},
   "outputs": [
    {
     "data": {
      "text/plain": [
       "Text(0.5, 1.0, 'Likes vs CrossStreet')"
      ]
     },
     "execution_count": 38,
     "metadata": {},
     "output_type": "execute_result"
    },
    {
     "data": {
      "image/png": "[encoded data removed]",
      "text/plain": [
       "<Figure size 432x288 with 1 Axes>"
      ]
     },
     "metadata": {
      "needs_background": "light"
     },
     "output_type": "display_data"
    }
   ],
   "source": [
    "venuedfCategorised.groupby(['CrossStreet'])['Likes'].sum().reset_index().plot()\n",
    "plt.title(\"Likes vs CrossStreet\") "
   ]
  },
  {
   "cell_type": "markdown",
   "metadata": {},
   "source": [
    "### Building a model"
   ]
  },
  {
   "cell_type": "code",
   "execution_count": 39,
   "metadata": {},
   "outputs": [],
   "source": [
    "venuedfCategorised=venuedfCategorised.dropna()\n",
    "msk = np.random.rand(len(venuedfCategorised)) < 0.6\n",
    "train = venuedfCategorised[msk]\n",
    "test = venuedfCategorised[~msk]"
   ]
  },
  {
   "cell_type": "code",
   "execution_count": 40,
   "metadata": {},
   "outputs": [
    {
     "name": "stdout",
     "output_type": "stream",
     "text": [
      "Coefficients of likes:  [[-2.95417774e+01  4.29888847e+02  4.19697654e-01]]\n",
      "Coefficients of rating:  [[0.00758075 0.55350148 0.00092121]]\n"
     ]
    }
   ],
   "source": [
    "from sklearn import linear_model\n",
    "regr1 = linear_model.LinearRegression()\n",
    "regr2 = linear_model.LinearRegression()\n",
    "\n",
    "\n",
    "x = np.asanyarray(train[['Category','PriceTier','PostalCode']])\n",
    "y1 = np.asanyarray(train[['Likes']])\n",
    "y2 = np.asanyarray(train[['Rating']])\n",
    "\n",
    "\n",
    "regr1.fit (x, y1)\n",
    "regr2.fit (x, y2)\n",
    "# The coefficients\n",
    "print ('Coefficients of likes: ', regr1.coef_)\n",
    "print ('Coefficients of rating: ', regr2.coef_)"
   ]
  },
  {
   "cell_type": "markdown",
   "metadata": {},
   "source": [
    "### Evaluating Model"
   ]
  },
  {
   "cell_type": "code",
   "execution_count": 41,
   "metadata": {},
   "outputs": [],
   "source": [
    "#a*Category+b*PriceTier+c*Lat+d*Lon"
   ]
  },
  {
   "cell_type": "code",
   "execution_count": 42,
   "metadata": {},
   "outputs": [
    {
     "name": "stdout",
     "output_type": "stream",
     "text": [
      "Residual sum of squares - LIKES: 153608.23\n",
      "Residual sum of squares - RATINGS: 0.39\n",
      "LIKES Variance score: -0.40\n",
      "RATING Variance score: 0.20\n"
     ]
    }
   ],
   "source": [
    "y_hatL= regr1.predict(test[['Category','PriceTier','PostalCode']])\n",
    "y_hatR= regr2.predict(test[['Category','PriceTier','PostalCode']])\n",
    "x = np.asanyarray(test[['Category','PriceTier','PostalCode']])\n",
    "yL = np.asanyarray(test[['Likes']])\n",
    "yR = np.asanyarray(test[['Rating']])\n",
    "\n",
    "print(\"Residual sum of squares - LIKES: %.2f\"\n",
    "      % np.mean((y_hatL - yL) ** 2))\n",
    "print(\"Residual sum of squares - RATINGS: %.2f\"\n",
    "      % np.mean((y_hatR - yR) ** 2))\n",
    "\n",
    "# Explained variance score: 1 is perfect prediction\n",
    "print('LIKES Variance score: %.2f' % regr1.score(x, yL))\n",
    "print('RATING Variance score: %.2f' % regr2.score(x, yR))"
   ]
  },
  {
   "cell_type": "markdown",
   "metadata": {},
   "source": [
    "### Looking at P values"
   ]
  },
  {
   "cell_type": "code",
   "execution_count": 43,
   "metadata": {},
   "outputs": [],
   "source": [
    "import pandas as pd\n",
    "import numpy as np\n",
    "from sklearn import datasets, linear_model\n",
    "from sklearn.linear_model import LinearRegression\n",
    "import statsmodels.api as sm\n",
    "from scipy import stats"
   ]
  },
  {
   "cell_type": "code",
   "execution_count": 44,
   "metadata": {},
   "outputs": [
    {
     "name": "stdout",
     "output_type": "stream",
     "text": [
      "                            OLS Regression Results                            \n",
      "==============================================================================\n",
      "Dep. Variable:                      y   R-squared:                       0.286\n",
      "Model:                            OLS   Adj. R-squared:                  0.221\n",
      "Method:                 Least Squares   F-statistic:                     4.401\n",
      "Date:                Sun, 17 Nov 2019   Prob (F-statistic):             0.0104\n",
      "Time:                        22:11:35   Log-Likelihood:                -44.045\n",
      "No. Observations:                  37   AIC:                             96.09\n",
      "Df Residuals:                      33   BIC:                             102.5\n",
      "Df Model:                           3                                         \n",
      "Covariance Type:            nonrobust                                         \n",
      "==============================================================================\n",
      "                 coef    std err          t      P>|t|      [0.025      0.975]\n",
      "------------------------------------------------------------------------------\n",
      "const         -1.1708      7.228     -0.162      0.872     -15.877      13.535\n",
      "x1            -0.0006      0.026     -0.025      0.980      -0.053       0.052\n",
      "x2             0.6757      0.197      3.422      0.002       0.274       1.077\n",
      "x3             0.0007      0.001      1.034      0.309      -0.001       0.002\n",
      "==============================================================================\n",
      "Omnibus:                        0.455   Durbin-Watson:                   1.933\n",
      "Prob(Omnibus):                  0.796   Jarque-Bera (JB):                0.600\n",
      "Skew:                          -0.194   Prob(JB):                        0.741\n",
      "Kurtosis:                       2.511   Cond. No.                     5.24e+05\n",
      "==============================================================================\n",
      "\n",
      "Warnings:\n",
      "[1] Standard Errors assume that the covariance matrix of the errors is correctly specified.\n",
      "[2] The condition number is large, 5.24e+05. This might indicate that there are\n",
      "strong multicollinearity or other numerical problems.\n"
     ]
    }
   ],
   "source": [
    "X=np.array(venuedfCategorised[['Category','PriceTier','PostalCode']])\n",
    "y1 = np.array(venuedfCategorised['Rating'])\n",
    "y1=y1.astype(float)\n",
    "X=X.astype(float)\n",
    "X2 = sm.add_constant(X)\n",
    "est = sm.OLS(y1, X2)\n",
    "est2 = est.fit()\n",
    "print(est2.summary())\n"
   ]
  },
  {
   "cell_type": "code",
   "execution_count": null,
   "metadata": {},
   "outputs": [],
   "source": []
  }
 ],
 "metadata": {
  "kernelspec": {
   "display_name": "Python 3.6",
   "language": "python",
   "name": "python3"
  },
  "language_info": {
   "codemirror_mode": {
    "name": "ipython",
    "version": 3
   },
   "file_extension": ".py",
   "mimetype": "text/x-python",
   "name": "python",
   "nbconvert_exporter": "python",
   "pygments_lexer": "ipython3",
   "version": "3.6.8"
  }
 },
 "nbformat": 4,
 "nbformat_minor": 1
}
